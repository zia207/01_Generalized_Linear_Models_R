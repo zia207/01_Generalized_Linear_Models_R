{
  "cells": [
    {
      "cell_type": "markdown",
      "metadata": {
        "id": "view-in-github",
        "colab_type": "text"
      },
      "source": [
        "<a href=\"https://colab.research.google.com/github/zia207/01_Generalized_Linear_Models_R/blob/main/Notebook/02_01_08_03_glm_gam_parametric_r.ipynb\" target=\"_parent\"><img src=\"https://colab.research.google.com/assets/colab-badge.svg\" alt=\"Open In Colab\"/></a>"
      ]
    },
    {
      "cell_type": "markdown",
      "metadata": {
        "id": "Xu_crfiZLczD"
      },
      "source": [
        "![alt text](http://drive.google.com/uc?export=view&id=1bLQ3nhDbZrCCqy_WCxxckOne2lgVvn3l)"
      ]
    },
    {
      "cell_type": "markdown",
      "source": [
        "# 7.3 Generalized Additive Models (GAMs) with Parametric Terms  \n",
        "\n",
        "Generalized Additive Models (GAMs) are a powerful extension of Generalized Linear Models (GLMs) that allow for nonlinear relationships between predictors and the response variable by modeling each predictor using smooth functions (typically splines). However, in many practical situations, some predictors may have known linear (or otherwise parametric) relationships with the response. GAMs can flexibly incorporate both smooth (nonparametric) terms and parametric terms — this is a key strength of the framework."
      ],
      "metadata": {
        "id": "J42bCd1ZNH-A"
      }
    },
    {
      "cell_type": "markdown",
      "source": [
        "## Overview\n",
        "\n",
        "GAMs extend generalized linear models (GLMs) by allowing the response variable to depend on smooth, non-linear functions of predictors, rather than assuming strictly linear relationships. The general form of a GAM is:\n",
        "\n",
        "$$ g(\\mu) = \\beta_0 + f_1(x_1) + f_2(x_2) + \\dots + f_m(x_m) + \\text{parametric terms} $$\n",
        "\n",
        "- $ g(\\cdot) $: Link function relating the expected response $\\mu$ to the predictors.\n",
        "\n",
        "- $ f_i(\\cdot) $: Smooth, non-parametric functions (e.g., splines) for predictors $x_i$.\n",
        "\n",
        "- Parametric terms: Fixed-form terms (e.g., linear or categorical effects) like $\\beta_j z_j$.\n",
        "\n",
        "### Parametric Terms in GAMs\n",
        "\n",
        "Parametric terms are included when certain predictors are known to have a specific functional form (e.g., linear, polynomial, or categorical). These terms are modeled explicitly, unlike the flexible smooth functions. For example:\n",
        "\n",
        "\n",
        "\n",
        "$$ g(\\mu) = \\beta_0 + f_1(x_1) + f_2(x_2) + \\beta_3 z_1 + \\beta_4 z_2 $$\n",
        "\n",
        "- $f_1(x_1), f_2(x_2)$: Non-linear smooth functions for continuous predictors.\n",
        "\n",
        "- $\\beta_3 z_1, \\beta_4 z_2$: Parametric terms (e.g., $z_1$ could be a linear term, $z_2$ a categorical variable).\n",
        "\n"
      ],
      "metadata": {
        "id": "o55QjJtZNyeK"
      }
    },
    {
      "cell_type": "markdown",
      "source": [
        "### Why Include Parametric Terms?\n",
        "\n",
        "1. **Interpretability**: Parametric terms allow straightforward interpretation (e.g., \"a unit increase in $z_1$ increases the response by $beta_3$\") compared to smooth terms.\n",
        "\n",
        "2. **Prior Knowledge**: When the relationship between a predictor and response is known to be linear or categorical, parametric terms are more efficient than estimating a flexible function.\n",
        "\n",
        "3. **Model Efficiency**: Reduces computational complexity by avoiding unnecessary smoothing for predictors with simple relationships.\n",
        "\n",
        "4. **Mixed Effects**: Useful for including fixed effects (e.g., categorical variables like gender) alongside smooth terms."
      ],
      "metadata": {
        "id": "82vu0yESkHDu"
      }
    },
    {
      "cell_type": "markdown",
      "source": [
        "\n",
        "### Example\n",
        "\n",
        "Suppose you're modeling house prices $y$ based on:\n",
        "\n",
        "- Square footage ($x_1$): Modeled with a smooth function $f_1(x_1)$ to capture non-linear effects.\n",
        "- Number of bedrooms ($z_1$): Modeled as a parametric term $\\beta_1 z_1$, assuming a linear effect.\n",
        "- Neighborhood ($z_2$): A categorical variable with parametric coefficients.\n",
        "\n",
        "The GAM might look like:\n",
        "\n",
        "$$ \\log(y) = \\beta_0 + f_1(x_1) + \\beta_1 z_1 + \\beta_2 \\text{I}_{z_2=\\text{'Suburb'}} + \\beta_3 \\text{I}_{z_2=\\text{'City'}} $$\n"
      ],
      "metadata": {
        "id": "c3TdXo4NkLeP"
      }
    },
    {
      "cell_type": "markdown",
      "source": [
        "### Estimation\n",
        "\n",
        "1.  **Parametric Terms**:\n",
        "\n",
        " -   These are fixed-form terms, such as:\n",
        "\n",
        "    -  `Linear terms`:  $\\beta_j z_j$, where $z_j$ is a continuous predictor with a linear effect.\n",
        "    -  `Categorical terms`: Dummy variables for categorical predictors (e.g., $\\beta_1 \\text{GroupA} + \\beta\\_2 \\text{GroupB}$).\n",
        "    -  `*Polynomial terms`: $\\beta_1 z_j + \\beta_2 z_j^2$ for quadratic effects.\n",
        "    -  `Interactions*`  $\\beta*j z*{j1} z_{j2}$ for interactions between predictors.\\\n",
        "    -  `Purpose*` Model predictors with known or assumed simple relationships, improving interpretability and reducing model complexity.\n",
        "    \n",
        "2.  **Smooth Terms**:\n",
        "\n",
        "   -  Non-linear functions $f_i(x_i)$, typically modeled using smoothing techniques like:\n",
        "   -  Cubic splines, P-splines, thin plate splines, or Gaussian processes (as discussed previously).\n",
        "  -  `Purpose`: Capture complex, non-linear patterns in predictors where the relationship is not easily specified parametrically.\n",
        "    \n",
        "3.  **Combination**:\n",
        "\n",
        "  -   GAMs allow you to mix parametric and smooth terms in the same model, tailoring the approach to each predictor’s expected behavior.\n",
        "  -   Example: In a model predicting house prices, you might use a smooth term for the non-linear effect of house size ($f(\\text{size})$) and a parametric term for the number of bedrooms ($\\beta \\cdot \\text{bedrooms}$)."
      ],
      "metadata": {
        "id": "evogsTh0kMYR"
      }
    },
    {
      "cell_type": "markdown",
      "source": [
        "### Applications\n",
        "\n",
        "- **Ecology**: Modeling species abundance with smooth environmental effects and parametric categorical effects (e.g., habitat type).\n",
        "- **Finance**: Predicting stock prices with smooth trends and parametric indicators (e.g., market sector).\n",
        "- **Epidemiology**: Modeling disease rates with smooth spatial effects and parametric age/sex effects.\n",
        "\n",
        "If you have a specific dataset or context (e.g., predictors, response type), I can tailor an example or suggest a model setup. Let me know!"
      ],
      "metadata": {
        "id": "Hz19WoV5kPBE"
      }
    },
    {
      "cell_type": "markdown",
      "source": [
        "### Considerations\n",
        "\n",
        "-   **Choosing Parametric vs. Smooth Terms**:\n",
        "    -   Use parametric terms when the relationship is known or assumed to be simple (e.g., linear or categorical).\\\n",
        "    -   Use smooth terms for predictors with unknown or complex relationships.\\\n",
        "    -   Domain knowledge or exploratory analysis (e.g., visualizations) can guide this choice.\n",
        "-   **Model Complexity**:\n",
        "    -   Including too many smooth terms can lead to overfitting, while over-relying on parametric terms may miss important non-linearities.\\\n",
        "    -   Model diagnostics (e.g., residual plots, AIC, or cross-validation) help assess the balance.\n",
        "-   **Software Implementation**:\n",
        "    -   Tools like R’s `mgcv` package (function `gam`) or Python’s `pygam` allow seamless integration of parametric and smooth terms.\\"
      ],
      "metadata": {
        "id": "O_PkjjfeVBWj"
      }
    },
    {
      "cell_type": "markdown",
      "source": [
        "##  Generalized Additive Models (GAMs) with Parametric Terms in R\n",
        "\n",
        "In this section we will duscuss how to fit flexible GAMs that combine smooth nonlinear effects with interpretable parametric terms in R."
      ],
      "metadata": {
        "id": "XAKS73FTkgUe"
      }
    },
    {
      "cell_type": "markdown",
      "source": [
        "## Install rpy2"
      ],
      "metadata": {
        "id": "vGVog4IgVL73"
      }
    },
    {
      "cell_type": "code",
      "source": [
        "!pip uninstall rpy2 -y\n",
        "!pip install rpy2==3.5.1\n",
        "%load_ext rpy2.ipython"
      ],
      "metadata": {
        "colab": {
          "base_uri": "https://localhost:8080/"
        },
        "id": "tbyuTJCOVMuz",
        "outputId": "f40a991d-a562-4b35-a0b6-02ebd07c16eb"
      },
      "execution_count": 1,
      "outputs": [
        {
          "output_type": "stream",
          "name": "stdout",
          "text": [
            "Found existing installation: rpy2 3.5.17\n",
            "Uninstalling rpy2-3.5.17:\n",
            "  Successfully uninstalled rpy2-3.5.17\n",
            "Collecting rpy2==3.5.1\n",
            "  Downloading rpy2-3.5.1.tar.gz (201 kB)\n",
            "\u001b[2K     \u001b[90m━━━━━━━━━━━━━━━━━━━━━━━━━━━━━━━━━━━━━━━\u001b[0m \u001b[32m201.7/201.7 kB\u001b[0m \u001b[31m4.1 MB/s\u001b[0m eta \u001b[36m0:00:00\u001b[0m\n",
            "\u001b[?25h  Preparing metadata (setup.py) ... \u001b[?25l\u001b[?25hdone\n",
            "Requirement already satisfied: cffi>=1.10.0 in /usr/local/lib/python3.12/dist-packages (from rpy2==3.5.1) (2.0.0)\n",
            "Requirement already satisfied: jinja2 in /usr/local/lib/python3.12/dist-packages (from rpy2==3.5.1) (3.1.6)\n",
            "Requirement already satisfied: pytz in /usr/local/lib/python3.12/dist-packages (from rpy2==3.5.1) (2025.2)\n",
            "Requirement already satisfied: tzlocal in /usr/local/lib/python3.12/dist-packages (from rpy2==3.5.1) (5.3.1)\n",
            "Requirement already satisfied: pycparser in /usr/local/lib/python3.12/dist-packages (from cffi>=1.10.0->rpy2==3.5.1) (2.23)\n",
            "Requirement already satisfied: MarkupSafe>=2.0 in /usr/local/lib/python3.12/dist-packages (from jinja2->rpy2==3.5.1) (3.0.2)\n",
            "Building wheels for collected packages: rpy2\n",
            "  Building wheel for rpy2 (setup.py) ... \u001b[?25l\u001b[?25hdone\n",
            "  Created wheel for rpy2: filename=rpy2-3.5.1-cp312-cp312-linux_x86_64.whl size=316561 sha256=11fa389782a4e5ab54a3fa8af971826937829ff15621ec4eb9b885aa8a7c6818\n",
            "  Stored in directory: /root/.cache/pip/wheels/00/26/d5/d5e8c0b039915e785be870270e4a9263e5058168a03513d8cc\n",
            "Successfully built rpy2\n",
            "Installing collected packages: rpy2\n",
            "Successfully installed rpy2-3.5.1\n"
          ]
        }
      ]
    },
    {
      "cell_type": "markdown",
      "source": [
        "## Mount Google Drive"
      ],
      "metadata": {
        "id": "4k9BA2fnVhBU"
      }
    },
    {
      "cell_type": "code",
      "source": [
        "from google.colab import drive\n",
        "drive.mount('/content/drive')"
      ],
      "metadata": {
        "colab": {
          "base_uri": "https://localhost:8080/"
        },
        "id": "gWTmwoRdVigu",
        "outputId": "e0bfaf6f-2956-4306-9b4f-b313f7ca1648"
      },
      "execution_count": 4,
      "outputs": [
        {
          "output_type": "stream",
          "name": "stdout",
          "text": [
            "Mounted at /content/drive\n"
          ]
        }
      ]
    },
    {
      "cell_type": "markdown",
      "source": [
        "### Install Required R Packages\n",
        "\n",
        "Following R packages are required to run this notebook. If any of these packages are not installed, you can install them using the code below:"
      ],
      "metadata": {
        "id": "BMswsyR_WV7B"
      }
    },
    {
      "cell_type": "code",
      "source": [
        "%%R\n",
        "packages <- c('tidyverse',\n",
        "     'plyr',\n",
        "\t\t 'rstatix',\n",
        "\t\t 'MASS',\n",
        "\t   'gam',\n",
        " \t\t 'mgcv',\n",
        "\t\t 'gamm4',\n",
        " \t\t 'gamlss',\n",
        " \t\t 'gratia',\n",
        "\t\t 'glmmTMB',\n",
        "\t\t 'scam',\n",
        "\t\t 'gamair'\n",
        "\n",
        "\t\t \t  \t)"
      ],
      "metadata": {
        "id": "eXQzizpsWWFj"
      },
      "execution_count": 5,
      "outputs": []
    },
    {
      "cell_type": "code",
      "source": [
        "%%R\n",
        "# Install missing packages\n",
        "new.packages <- packages[!(pkg %in% installed.packages(lib='drive/My Drive/R/')[,\"Package\"])]\n",
        "if(length(new.packages)) install.packages(new.packages, lib='drive/My Drive/R/')"
      ],
      "metadata": {
        "id": "hFBoIdRGWaLJ"
      },
      "execution_count": null,
      "outputs": []
    },
    {
      "cell_type": "code",
      "source": [
        "%%R\n",
        "# set library path\n",
        ".libPaths('drive/My Drive/R')\n",
        "# Verify installation\n",
        "cat(\"Installed packages:\\n\")\n",
        "print(sapply(packages, requireNamespace, quietly = TRUE))"
      ],
      "metadata": {
        "colab": {
          "base_uri": "https://localhost:8080/"
        },
        "id": "DJklIME_X8YX",
        "outputId": "f8d5fb88-d45e-458f-a1df-753f1207fb0a"
      },
      "execution_count": 6,
      "outputs": [
        {
          "output_type": "stream",
          "name": "stdout",
          "text": [
            "Installed packages:\n",
            "tidyverse      plyr   rstatix      MASS       gam      mgcv     gamm4    gamlss \n",
            "     TRUE      TRUE      TRUE      TRUE      TRUE      TRUE      TRUE      TRUE \n",
            "   gratia   glmmTMB      scam    gamair \n",
            "     TRUE      TRUE      TRUE      TRUE \n"
          ]
        }
      ]
    },
    {
      "cell_type": "markdown",
      "source": [
        "### Load packages"
      ],
      "metadata": {
        "id": "lAgpv5BZWdY0"
      }
    },
    {
      "cell_type": "code",
      "source": [
        "%%R\n",
        "# set library path\n",
        ".libPaths('drive/My Drive/R')\n",
        "# Load packages with suppressed messages\n",
        "invisible(lapply(packages, function(pkg) {\n",
        "  suppressPackageStartupMessages(library(pkg, character.only = TRUE))\n",
        "}))\n",
        "# Check loaded packages\n",
        "cat(\"Successfully loaded packages:\\n\")\n",
        "print(search()[grepl(\"package:\", search())])# Check loaded packages"
      ],
      "metadata": {
        "colab": {
          "base_uri": "https://localhost:8080/"
        },
        "id": "hsaSWKQLWdhW",
        "outputId": "b29f1cf2-9e30-497c-8482-1990cde92c2d"
      },
      "execution_count": 7,
      "outputs": [
        {
          "output_type": "stream",
          "name": "stdout",
          "text": [
            "Successfully loaded packages:\n",
            " [1] \"package:gamair\"      \"package:scam\"        \"package:glmmTMB\"    \n",
            " [4] \"package:gratia\"      \"package:gamlss\"      \"package:parallel\"   \n",
            " [7] \"package:gamlss.dist\" \"package:gamlss.data\" \"package:gamm4\"      \n",
            "[10] \"package:lme4\"        \"package:Matrix\"      \"package:mgcv\"       \n",
            "[13] \"package:nlme\"        \"package:gam\"         \"package:foreach\"    \n",
            "[16] \"package:splines\"     \"package:MASS\"        \"package:rstatix\"    \n",
            "[19] \"package:plyr\"        \"package:lubridate\"   \"package:forcats\"    \n",
            "[22] \"package:stringr\"     \"package:dplyr\"       \"package:purrr\"      \n",
            "[25] \"package:readr\"       \"package:tidyr\"       \"package:tibble\"     \n",
            "[28] \"package:ggplot2\"     \"package:tidyverse\"   \"package:tools\"      \n",
            "[31] \"package:stats\"       \"package:graphics\"    \"package:grDevices\"  \n",
            "[34] \"package:utils\"       \"package:datasets\"    \"package:methods\"    \n",
            "[37] \"package:base\"       \n"
          ]
        }
      ]
    },
    {
      "cell_type": "markdown",
      "source": [
        "##  Standard GAM with Parametric Terms — `gamSim()` Data\n",
        "\n",
        "We’ll start with simulated data from `mgcv::gamSim()` — designed for GAM examples.\n",
        ""
      ],
      "metadata": {
        "id": "eJDx8gtvbY4z"
      }
    },
    {
      "cell_type": "code",
      "source": [
        "%%R\n",
        "# Simulate data: y ~ x0 (factor) + x1 (smooth) + x2 (smooth) + x3 (linear)\n",
        "set.seed(123)\n",
        "dat <- gamSim(1, n = 400, dist = \"normal\", scale = 2)\n",
        "\n",
        "head(dat)\n",
        "# Includes: y, x0 (factor), x1, x2, x3 (continuous)"
      ],
      "metadata": {
        "colab": {
          "base_uri": "https://localhost:8080/"
        },
        "id": "LSoUNA1YbZyH",
        "outputId": "6f36be34-2111-454e-ec42-bd9edbc8d05e"
      },
      "execution_count": 8,
      "outputs": [
        {
          "output_type": "stream",
          "name": "stdout",
          "text": [
            "Gu & Wahba 4 term additive model\n",
            "          y        x0        x1         x2        x3         f        f0\n",
            "1 12.374561 0.2875775 0.9860543 0.47068183 0.8585914 11.661995 1.5709354\n",
            "2  6.588417 0.7883051 0.1370675 0.36584547 0.8873848  7.904437 1.2342112\n",
            "3 14.639261 0.4089769 0.9053096 0.12127205 0.4890915 12.928857 1.9187840\n",
            "4  6.832210 0.8830174 0.5763018 0.04699368 0.7180918  4.526337 0.7185887\n",
            "5 11.747699 0.9404673 0.3954489 0.26279630 0.4867056 11.195150 0.3718782\n",
            "6  3.032239 0.0455565 0.4498025 0.96864117 0.9887089  2.744029 0.2852637\n",
            "        f1           f2 f3\n",
            "1 7.185812 2.9052469566  0\n",
            "2 1.315392 5.3548336534  0\n",
            "3 6.114232 4.8958405724  0\n",
            "4 3.166427 0.6413220700  0\n",
            "5 2.205375 8.6178964416  0\n",
            "6 2.458632 0.0001339619  0\n"
          ]
        }
      ]
    },
    {
      "cell_type": "markdown",
      "source": [
        "### Fit a GAM with:\n",
        "\n",
        "- Smooth terms: `s(x1)`, `s(x2)`\n",
        "- Parametric terms: `x3` (linear), `x0` (categorical)"
      ],
      "metadata": {
        "id": "ja920rQKbzVI"
      }
    },
    {
      "cell_type": "code",
      "source": [
        "%%R\n",
        "m1 <- gam(y ~ s(x1) + s(x2) + x3 + x0, data = dat, method = \"REML\")\n",
        "\n",
        "summary(m1)"
      ],
      "metadata": {
        "id": "Vk3LZUfhb0Gm",
        "colab": {
          "base_uri": "https://localhost:8080/"
        },
        "outputId": "f28463f6-a582-4320-8d68-60df41d868ad"
      },
      "execution_count": 9,
      "outputs": [
        {
          "output_type": "stream",
          "name": "stdout",
          "text": [
            "\n",
            "Family: gaussian \n",
            "Link function: identity \n",
            "\n",
            "Formula:\n",
            "y ~ s(x1) + s(x2) + x3 + x0\n",
            "\n",
            "Parametric coefficients:\n",
            "            Estimate Std. Error t value Pr(>|t|)    \n",
            "(Intercept)  7.43276    0.28384  26.186  < 2e-16 ***\n",
            "x3           1.16605    0.37951   3.073  0.00227 ** \n",
            "x0          -0.06899    0.38999  -0.177  0.85969    \n",
            "---\n",
            "Signif. codes:  0 ‘***’ 0.001 ‘**’ 0.01 ‘*’ 0.05 ‘.’ 0.1 ‘ ’ 1\n",
            "\n",
            "Approximate significance of smooth terms:\n",
            "        edf Ref.df     F p-value    \n",
            "s(x1) 3.072  3.818 73.22  <2e-16 ***\n",
            "s(x2) 8.124  8.788 64.70  <2e-16 ***\n",
            "---\n",
            "Signif. codes:  0 ‘***’ 0.001 ‘**’ 0.01 ‘*’ 0.05 ‘.’ 0.1 ‘ ’ 1\n",
            "\n",
            "R-sq.(adj) =  0.693   Deviance explained = 70.3%\n",
            "-REML = 893.78  Scale est. = 4.685     n = 400\n"
          ]
        }
      ]
    },
    {
      "cell_type": "markdown",
      "source": [
        "### Visualize smooths"
      ],
      "metadata": {
        "id": "Q4qeb0Klb6uK"
      }
    },
    {
      "cell_type": "code",
      "source": [
        "%%R -w 800 -h 500 -u px\n",
        "# Visualize the smooth terms\n",
        "draw(m1)  # from gratia — beautiful & tidy!\n"
      ],
      "metadata": {
        "id": "MaaB7p7gb9Hh",
        "colab": {
          "base_uri": "https://localhost:8080/",
          "height": 517
        },
        "outputId": "948cf107-3e91-4572-a794-38afc5d16deb"
      },
      "execution_count": 11,
      "outputs": [
        {
          "output_type": "display_data",
          "data": {
            "image/png": "[encoded data removed]"
          },
          "metadata": {}
        }
      ]
    },
    {
      "cell_type": "markdown",
      "source": [
        "### Interpret parametric terms"
      ],
      "metadata": {
        "id": "V9V2bDIam2Yr"
      }
    },
    {
      "cell_type": "code",
      "source": [
        "%%R\n",
        "# Extract parametric coefficients\n",
        "coef(m1)[grepl(\"x0|x3\", names(coef(m1)))]"
      ],
      "metadata": {
        "colab": {
          "base_uri": "https://localhost:8080/"
        },
        "id": "IppobCGXlW3K",
        "outputId": "e68bbf91-2b02-4ab9-d64f-a6101d71454d"
      },
      "execution_count": 12,
      "outputs": [
        {
          "output_type": "stream",
          "name": "stdout",
          "text": [
            "         x3          x0 \n",
            " 1.16604954 -0.06898557 \n"
          ]
        }
      ]
    },
    {
      "cell_type": "code",
      "source": [
        "%%R\n",
        "# Or use:\n",
        "summary(m1)$p.table  # parametric table"
      ],
      "metadata": {
        "colab": {
          "base_uri": "https://localhost:8080/"
        },
        "id": "kceMDt2JcHwi",
        "outputId": "d544f1bd-944d-4e5b-9c0a-bdef6aeab246"
      },
      "execution_count": 13,
      "outputs": [
        {
          "output_type": "stream",
          "name": "stdout",
          "text": [
            "               Estimate Std. Error    t value     Pr(>|t|)\n",
            "(Intercept)  7.43276088  0.2838414 26.1863216 1.337790e-87\n",
            "x3           1.16604954  0.3795090  3.0725216 2.273246e-03\n",
            "x0          -0.06898557  0.3899865 -0.1768922 8.596859e-01\n"
          ]
        }
      ]
    },
    {
      "cell_type": "markdown",
      "source": [
        "-  `x0` is treated as a factor — 3 dummy variables created automatically.  \n",
        "-  `x3` has a linear slope estimate."
      ],
      "metadata": {
        "id": "liCG4V_Dm-zk"
      }
    },
    {
      "cell_type": "markdown",
      "source": [
        "\n",
        "## GAM with Parametric Interactions — `MASS::mcycle`\n",
        "\n",
        "Dataset: Motorcycle accident data — head acceleration (`accel`) over time (`times`). We’ll add a dummy treatment variable."
      ],
      "metadata": {
        "id": "D2MgiOVmlgTe"
      }
    },
    {
      "cell_type": "code",
      "source": [
        "%%R\n",
        "data(mcycle, package = \"MASS\")\n",
        "\n",
        "# Create a fake \"helmet\" factor (for tutorial)\n",
        "set.seed(456)\n",
        "mcycle$helmet <- factor(sample(c(\"Yes\", \"No\"), nrow(mcycle), replace = TRUE))\n",
        "\n",
        "head(mcycle)"
      ],
      "metadata": {
        "colab": {
          "base_uri": "https://localhost:8080/"
        },
        "id": "3GGlQskxcOIz",
        "outputId": "60ebdb2c-f0aa-4b06-ed77-2eaeb381f80e"
      },
      "execution_count": 14,
      "outputs": [
        {
          "output_type": "stream",
          "name": "stdout",
          "text": [
            "  times accel helmet\n",
            "1   2.4   0.0    Yes\n",
            "2   2.6  -1.3    Yes\n",
            "3   3.2  -2.7    Yes\n",
            "4   3.6   0.0     No\n",
            "5   4.0  -2.7    Yes\n",
            "6   6.2  -2.7     No\n"
          ]
        }
      ]
    },
    {
      "cell_type": "markdown",
      "source": [
        "### Fit model: smooth time effect + parametric helmet + interaction"
      ],
      "metadata": {
        "id": "wrp_aaJacUcN"
      }
    },
    {
      "cell_type": "code",
      "source": [
        "%%R\n",
        "m2 <- gam(accel ~ s(times) + helmet + s(times, by = helmet),\n",
        "          data = mcycle, method = \"REML\")\n",
        "\n",
        "summary(m2)"
      ],
      "metadata": {
        "id": "VEiycFRPcVcn",
        "colab": {
          "base_uri": "https://localhost:8080/"
        },
        "outputId": "87268c86-7d52-471c-a233-decccb102240"
      },
      "execution_count": 15,
      "outputs": [
        {
          "output_type": "stream",
          "name": "stdout",
          "text": [
            "\n",
            "Family: gaussian \n",
            "Link function: identity \n",
            "\n",
            "Formula:\n",
            "accel ~ s(times) + helmet + s(times, by = helmet)\n",
            "\n",
            "Parametric coefficients:\n",
            "            Estimate Std. Error t value Pr(>|t|)    \n",
            "(Intercept)  -28.598      2.784 -10.271   <2e-16 ***\n",
            "helmetYes      6.353      4.006   1.586    0.115    \n",
            "---\n",
            "Signif. codes:  0 ‘***’ 0.001 ‘**’ 0.01 ‘*’ 0.05 ‘.’ 0.1 ‘ ’ 1\n",
            "\n",
            "Approximate significance of smooth terms:\n",
            "                        edf   Ref.df      F p-value    \n",
            "s(times)           8.611823 8.955180 48.273  <2e-16 ***\n",
            "s(times):helmetNo  1.002182 1.004349  0.415   0.520    \n",
            "s(times):helmetYes 0.002516 0.005016  0.057   0.987    \n",
            "---\n",
            "Signif. codes:  0 ‘***’ 0.001 ‘**’ 0.01 ‘*’ 0.05 ‘.’ 0.1 ‘ ’ 1\n",
            "\n",
            "Rank: 28/29\n",
            "R-sq.(adj) =  0.784   Deviance explained = 80.2%\n",
            "-REML =    606  Scale est. = 503.41    n = 133\n"
          ]
        }
      ]
    },
    {
      "cell_type": "markdown",
      "source": [
        "This is a **varying coefficient model** — the smooth effect of `times` varies by `helmet`."
      ],
      "metadata": {
        "id": "1dLkhEvunRP1"
      }
    },
    {
      "cell_type": "code",
      "source": [
        "%%R -w 800 -h 700 -u px\n",
        "# Visualize the smooth terms\n",
        "draw(m2)"
      ],
      "metadata": {
        "colab": {
          "base_uri": "https://localhost:8080/",
          "height": 717
        },
        "id": "us48o_wRl9ZZ",
        "outputId": "68aaf4e6-a3ec-424c-8b9f-ae109a56160c"
      },
      "execution_count": 16,
      "outputs": [
        {
          "output_type": "display_data",
          "data": {
            "image/png": "[encoded data removed]"
          },
          "metadata": {}
        }
      ]
    },
    {
      "cell_type": "markdown",
      "source": [
        "\n",
        "You’ll see **two smooth curves** — one for each helmet group — showing how the time-acceleration relationship differs by helmet use."
      ],
      "metadata": {
        "id": "KmvpQHcznaLw"
      }
    },
    {
      "cell_type": "markdown",
      "source": [
        "\n",
        "## GAM with Random Effects — `lme4::InstEval`\n",
        "\n",
        "Dataset: Longitudinal math achievement scores for students in schools."
      ],
      "metadata": {
        "id": "Z_fgHRf0nbJu"
      }
    },
    {
      "cell_type": "code",
      "source": [
        "%%R\n",
        "# Load dataset\n",
        "data(InstEval, package = \"lme4\")\n",
        "\n",
        "# Let's look at structure\n",
        "head(InstEval)\n",
        "\n",
        "# For speed and simplicity, let's take a random subset\n",
        "inst <- InstEval %>%\n",
        "  sample_n(2000)  # ← no studage_num!"
      ],
      "metadata": {
        "id": "8zKLiCGiccSa"
      },
      "execution_count": 17,
      "outputs": []
    },
    {
      "cell_type": "markdown",
      "source": [
        "###  Fit a GAMM: smooth effect of student age + parametric service + random intercept by instructor"
      ],
      "metadata": {
        "id": "zD6CVlP4mM6E"
      }
    },
    {
      "cell_type": "code",
      "source": [
        "%%R\n",
        "# Use gamm() instead of gamm4()\n",
        "m3 <- gamm(\n",
        "  y ~ studage + service + lectage,\n",
        "  random = list(d = ~ 1),   # ← syntax is different!\n",
        "  data = inst,\n",
        "  method = \"REML\"\n",
        ")"
      ],
      "metadata": {
        "id": "GsuLxpVbciPz"
      },
      "execution_count": 18,
      "outputs": []
    },
    {
      "cell_type": "code",
      "source": [
        "%%R\n",
        "summary(m3$gam)$p.table  # parametric coefficients"
      ],
      "metadata": {
        "colab": {
          "base_uri": "https://localhost:8080/"
        },
        "id": "kg-aI3gOc9vX",
        "outputId": "e4cbf98a-1770-45ec-821f-dac74bfd761e"
      },
      "execution_count": 19,
      "outputs": [
        {
          "output_type": "stream",
          "name": "stdout",
          "text": [
            "               Estimate Std. Error    t value   Pr(>|t|)\n",
            "(Intercept)  3.25164713 0.04995239 65.0949211 0.00000000\n",
            "studage.L    0.13946451 0.07378357  1.8901839 0.05887857\n",
            "studage.Q   -0.01047214 0.06127989 -0.1708902 0.86432744\n",
            "studage.C    0.01162707 0.05895751  0.1972109 0.84368261\n",
            "service1    -0.11891448 0.06643440 -1.7899534 0.07361339\n",
            "lectage.L   -0.11386129 0.08446357 -1.3480520 0.17779508\n",
            "lectage.Q   -0.01130864 0.07477727 -0.1512310 0.87980886\n",
            "lectage.C   -0.08361221 0.07992458 -1.0461389 0.29562396\n",
            "lectage^4   -0.03860568 0.08330406 -0.4634310 0.64310616\n",
            "lectage^5    0.07359854 0.08430350  0.8730187 0.38275821\n"
          ]
        }
      ]
    },
    {
      "cell_type": "markdown",
      "source": [
        "### Check smooth"
      ],
      "metadata": {
        "id": "LC6CD5OOnxVB"
      }
    },
    {
      "cell_type": "code",
      "source": [
        "%%R -w 800 -h 800 -u px\n",
        "# No smooths to plot — but you can check residuals\n",
        "gam.check(m3$gam)"
      ],
      "metadata": {
        "colab": {
          "base_uri": "https://localhost:8080/",
          "height": 869
        },
        "id": "dWkSOoGOdHFj",
        "outputId": "3ac6fdb0-2488-4ca3-fe7f-5639f7aa9d84"
      },
      "execution_count": 20,
      "outputs": [
        {
          "output_type": "stream",
          "name": "stdout",
          "text": [
            "\n",
            "'gamm' based fit - care required with interpretation.\n",
            "Checks based on working residuals may be misleading.\n"
          ]
        },
        {
          "output_type": "display_data",
          "data": {
            "image/png": "[encoded data removed]"
          },
          "metadata": {}
        }
      ]
    },
    {
      "cell_type": "markdown",
      "source": [
        "## Shrinkage & Variable Selection — `mgcv::hubble`\n",
        "\n",
        "Dataset: Hubble’s original data on galaxy distances and velocities."
      ],
      "metadata": {
        "id": "mDlu2KDjdQOr"
      }
    },
    {
      "cell_type": "code",
      "source": [
        "%%R\n",
        "data(hubble, package = \"gamair\")\n",
        "\n",
        "head(hubble)\n",
        "# velocity (km/s), distance (Mpc)"
      ],
      "metadata": {
        "id": "gVivknkAnG4c",
        "colab": {
          "base_uri": "https://localhost:8080/"
        },
        "outputId": "6bfd9e39-94aa-4ee6-f03b-2daf9a6138ed"
      },
      "execution_count": 21,
      "outputs": [
        {
          "output_type": "stream",
          "name": "stdout",
          "text": [
            "    Galaxy    y     x\n",
            "1  NGC0300  133  2.00\n",
            "2  NGC0925  664  9.16\n",
            "3 NGC1326A 1794 16.14\n",
            "4  NGC1365 1594 17.95\n",
            "5  NGC1425 1473 21.88\n",
            "6  NGC2403  278  3.22\n"
          ]
        }
      ]
    },
    {
      "cell_type": "markdown",
      "source": [
        "\n",
        "### Fit with shrinkage smooth — allows model to shrink to linear or zero\n"
      ],
      "metadata": {
        "id": "9Q9qV3Kyn78U"
      }
    },
    {
      "cell_type": "code",
      "source": [
        "%%R\n",
        "m4 <- gam(y ~ s(x, bs = \"ts\"), data = hubble,\n",
        "          method = \"REML\", select = TRUE)\n",
        "\n",
        "summary(m4)"
      ],
      "metadata": {
        "colab": {
          "base_uri": "https://localhost:8080/"
        },
        "id": "uOV2KId-dUMl",
        "outputId": "00f83700-7f5d-4326-ff31-9099276e6a98"
      },
      "execution_count": 22,
      "outputs": [
        {
          "output_type": "stream",
          "name": "stdout",
          "text": [
            "\n",
            "Family: gaussian \n",
            "Link function: identity \n",
            "\n",
            "Formula:\n",
            "y ~ s(x, bs = \"ts\")\n",
            "\n",
            "Parametric coefficients:\n",
            "            Estimate Std. Error t value Pr(>|t|)    \n",
            "(Intercept)   924.37      53.22   17.37 3.17e-14 ***\n",
            "---\n",
            "Signif. codes:  0 ‘***’ 0.001 ‘**’ 0.01 ‘*’ 0.05 ‘.’ 0.1 ‘ ’ 1\n",
            "\n",
            "Approximate significance of smooth terms:\n",
            "      edf Ref.df     F p-value    \n",
            "s(x) 1.27      9 7.331  <2e-16 ***\n",
            "---\n",
            "Signif. codes:  0 ‘***’ 0.001 ‘**’ 0.01 ‘*’ 0.05 ‘.’ 0.1 ‘ ’ 1\n",
            "\n",
            "R-sq.(adj) =  0.742   Deviance explained = 75.6%\n",
            "-REML =  164.5  Scale est. = 67978     n = 24\n"
          ]
        }
      ]
    },
    {
      "cell_type": "markdown",
      "source": [
        "`bs = \"ts\"` = shrinkage thin plate spline.  \n",
        "`select = TRUE` allows entire term to be shrunk to zero.\n"
      ],
      "metadata": {
        "id": "aoJyd2-wnNp3"
      }
    },
    {
      "cell_type": "code",
      "source": [
        "%%R -w 500 -h 450 -u px\n",
        "draw(m4)"
      ],
      "metadata": {
        "colab": {
          "base_uri": "https://localhost:8080/",
          "height": 467
        },
        "id": "lZkf4CAXdegC",
        "outputId": "d763c6d3-4dec-442a-8ff4-b46335c32230"
      },
      "execution_count": 24,
      "outputs": [
        {
          "output_type": "display_data",
          "data": {
            "image/png": "[encoded data removed]"
          },
          "metadata": {}
        }
      ]
    },
    {
      "cell_type": "markdown",
      "source": [
        "Compare with linear model:\n"
      ],
      "metadata": {
        "id": "enrCrjbidbl5"
      }
    },
    {
      "cell_type": "code",
      "source": [
        "%%R\n",
        "m4_linear <- gam(y ~ x, data = hubble)\n",
        "AIC(m4, m4_linear)"
      ],
      "metadata": {
        "colab": {
          "base_uri": "https://localhost:8080/"
        },
        "id": "nu76cEOkdpAN",
        "outputId": "626e8214-564e-4671-8710-17206696914f"
      },
      "execution_count": 25,
      "outputs": [
        {
          "output_type": "stream",
          "name": "stdout",
          "text": [
            "                df      AIC\n",
            "m4        3.510587 339.7924\n",
            "m4_linear 3.000000 339.7999\n"
          ]
        }
      ]
    },
    {
      "cell_type": "markdown",
      "source": [
        "In this case, Hubble’s law is approximately linear — shrinkage may favor linear fit."
      ],
      "metadata": {
        "id": "uJqYIw-soU9T"
      }
    },
    {
      "cell_type": "markdown",
      "source": [
        "## Tensor Product Smooth + Parametric — Using gamSim(5)"
      ],
      "metadata": {
        "id": "_3wFvcZroVt8"
      }
    },
    {
      "cell_type": "code",
      "source": [
        "%%R\n",
        "# Simulate data\n",
        "set.seed(567)\n",
        "dat5 <- gamSim(5, n = 400)\n",
        "\n",
        "# Add factor\n",
        "dat5$fac <- factor(sample(LETTERS[1:3], nrow(dat5), replace = TRUE))\n",
        "\n",
        "# Ensure x0 and x1 are numeric\n",
        "dat5$x0 <- as.numeric(as.character(dat5$x0))\n",
        "dat5$x1 <- as.numeric(as.character(dat5$x1))"
      ],
      "metadata": {
        "colab": {
          "base_uri": "https://localhost:8080/"
        },
        "id": "IQ_ooTf2oaOk",
        "outputId": "d08e790b-060a-4023-be2d-942003dab769"
      },
      "execution_count": 26,
      "outputs": [
        {
          "output_type": "stream",
          "name": "stdout",
          "text": [
            "Additive model + factor\n"
          ]
        }
      ]
    },
    {
      "cell_type": "markdown",
      "source": [
        "### Fit: tensor smooth of age × location + gender (parametric)"
      ],
      "metadata": {
        "id": "RaPCdidDofSr"
      }
    },
    {
      "cell_type": "code",
      "source": [
        "%%R\n",
        "# Fit with reduced k (since only 4 unique values)\n",
        "m5 <- gam(y ~ te(x0, x1, k = 3) + fac,\n",
        "          data = dat5,\n",
        "          method = \"REML\")\n",
        "# Inspect\n",
        "summary(m5)"
      ],
      "metadata": {
        "colab": {
          "base_uri": "https://localhost:8080/"
        },
        "id": "4PU1acaTogEN",
        "outputId": "23c35d7d-0bde-437d-8afc-0c1f5863f12a"
      },
      "execution_count": 27,
      "outputs": [
        {
          "output_type": "stream",
          "name": "stdout",
          "text": [
            "\n",
            "Family: gaussian \n",
            "Link function: identity \n",
            "\n",
            "Formula:\n",
            "y ~ te(x0, x1, k = 3) + fac\n",
            "\n",
            "Parametric coefficients:\n",
            "            Estimate Std. Error t value Pr(>|t|)    \n",
            "(Intercept)  11.8124     0.2919  40.474   <2e-16 ***\n",
            "facB         -0.5619     0.4255  -1.320    0.187    \n",
            "facC         -0.5042     0.4124  -1.223    0.222    \n",
            "---\n",
            "Signif. codes:  0 ‘***’ 0.001 ‘**’ 0.01 ‘*’ 0.05 ‘.’ 0.1 ‘ ’ 1\n",
            "\n",
            "Approximate significance of smooth terms:\n",
            "            edf Ref.df     F p-value    \n",
            "te(x0,x1) 3.578   3.99 66.93  <2e-16 ***\n",
            "---\n",
            "Signif. codes:  0 ‘***’ 0.001 ‘**’ 0.01 ‘*’ 0.05 ‘.’ 0.1 ‘ ’ 1\n",
            "\n",
            "R-sq.(adj) =  0.398   Deviance explained = 40.6%\n",
            "-REML = 1056.4  Scale est. = 11.715    n = 400\n"
          ]
        }
      ]
    },
    {
      "cell_type": "code",
      "source": [
        "%%R\n",
        "summary(m5)$p.table"
      ],
      "metadata": {
        "colab": {
          "base_uri": "https://localhost:8080/"
        },
        "id": "ZmansP04oo0s",
        "outputId": "cdd8b24c-777a-44ab-dde3-0e02af111a09"
      },
      "execution_count": 28,
      "outputs": [
        {
          "output_type": "stream",
          "name": "stdout",
          "text": [
            "              Estimate Std. Error   t value      Pr(>|t|)\n",
            "(Intercept) 11.8124296  0.2918553 40.473584 2.526658e-142\n",
            "facB        -0.5618768  0.4255104 -1.320477  1.874434e-01\n",
            "facC        -0.5042473  0.4124028 -1.222706  2.221727e-01\n"
          ]
        }
      ]
    },
    {
      "cell_type": "code",
      "source": [
        "%%R -w 550 -h 450 -u px\n",
        "draw(m5, select = 1)  # select first smooth (te term)"
      ],
      "metadata": {
        "colab": {
          "base_uri": "https://localhost:8080/",
          "height": 467
        },
        "id": "TXYA_RdZfPom",
        "outputId": "1e45ee6f-8540-4105-cda9-bc4466b48ec2"
      },
      "execution_count": 29,
      "outputs": [
        {
          "output_type": "display_data",
          "data": {
            "image/png": "[encoded data removed]"
          },
          "metadata": {}
        }
      ]
    },
    {
      "cell_type": "markdown",
      "source": [
        "## Location-Scale GAM\n",
        "\n",
        "Dataset: Simulate data set -  physical measurements (predicting number of rings = age)."
      ],
      "metadata": {
        "id": "UvRWklXNff8C"
      }
    },
    {
      "cell_type": "code",
      "source": [
        "%%R\n",
        "set.seed(789)\n",
        "n <- 1000\n",
        "ab <- data.frame(\n",
        "  length = runif(n, 0.1, 0.8),\n",
        "  diameter = runif(n, 0.05, 0.6),\n",
        "  height = runif(n, 0.01, 0.3)\n",
        ") %>%\n",
        "  mutate(\n",
        "    # Mean model: rings ~ s(length) + height\n",
        "    mu = 5 + 10 * length + 2 * height + rnorm(n, 0, 0.5),\n",
        "    # Variance model: log(sigma) ~ s(diameter) + height\n",
        "    log_sigma = -1 + 2 * diameter + 0.5 * height + rnorm(n, 0, 0.2),\n",
        "    sigma = exp(log_sigma),\n",
        "    rings = rnorm(n, mu, sigma)  # final response\n",
        "  ) %>%\n",
        " dplyr::select(rings, length, diameter, height)\n",
        "\n",
        "head(ab)"
      ],
      "metadata": {
        "colab": {
          "base_uri": "https://localhost:8080/"
        },
        "id": "D_1FB6Wcoyub",
        "outputId": "445aba54-4eef-41a0-8dd3-9dda5b47433d"
      },
      "execution_count": 30,
      "outputs": [
        {
          "output_type": "stream",
          "name": "stdout",
          "text": [
            "      rings    length  diameter     height\n",
            "1 11.055180 0.5899261 0.3030613 0.27774644\n",
            "2  7.145040 0.1654492 0.1666082 0.19351648\n",
            "3  5.704344 0.1083208 0.1386155 0.20818428\n",
            "4  8.902144 0.5141244 0.4788300 0.03657765\n",
            "5  8.271372 0.4445046 0.3860073 0.28552507\n",
            "6  6.445900 0.1141145 0.5475284 0.03228029\n"
          ]
        }
      ]
    },
    {
      "cell_type": "markdown",
      "source": [
        "### Fit GAMLSS-style: model both mean and variance"
      ],
      "metadata": {
        "id": "QXG58g0to47b"
      }
    },
    {
      "cell_type": "code",
      "source": [
        "%%R\n",
        "m6 <- gam(list(rings ~ s(length) + height,   # mean model\n",
        "               ~ s(diameter) + height),      # variance model\n",
        "          family = gaulss(), data = ab, method = \"REML\")\n",
        "\n",
        "summary(m6)"
      ],
      "metadata": {
        "colab": {
          "base_uri": "https://localhost:8080/"
        },
        "id": "puTEmpLNo5sJ",
        "outputId": "1e62e47b-3dd0-4887-990f-1c876e704f7c"
      },
      "execution_count": 31,
      "outputs": [
        {
          "output_type": "stream",
          "name": "stdout",
          "text": [
            "\n",
            "Family: gaulss \n",
            "Link function: identity logb \n",
            "\n",
            "Formula:\n",
            "rings ~ s(length) + height\n",
            "~s(diameter) + height\n",
            "\n",
            "Parametric coefficients:\n",
            "              Estimate Std. Error z value Pr(>|z|)    \n",
            "(Intercept)    9.60912    0.05952 161.454  < 2e-16 ***\n",
            "height         1.47564    0.34334   4.298 1.72e-05 ***\n",
            "(Intercept).1 -0.02735    0.04702  -0.582    0.561    \n",
            "height.1      -0.10406    0.27243  -0.382    0.702    \n",
            "---\n",
            "Signif. codes:  0 ‘***’ 0.001 ‘**’ 0.01 ‘*’ 0.05 ‘.’ 0.1 ‘ ’ 1\n",
            "\n",
            "Approximate significance of smooth terms:\n",
            "                edf Ref.df Chi.sq p-value    \n",
            "s(length)     2.067  2.580 4932.7  <2e-16 ***\n",
            "s.1(diameter) 1.001  1.002  113.6  <2e-16 ***\n",
            "---\n",
            "Signif. codes:  0 ‘***’ 0.001 ‘**’ 0.01 ‘*’ 0.05 ‘.’ 0.1 ‘ ’ 1\n",
            "\n",
            "Deviance explained = 83.3%\n",
            "-REML = 1399.4  Scale est. = 1         n = 1000\n"
          ]
        }
      ]
    },
    {
      "cell_type": "markdown",
      "source": [
        "-  `gaulss()` = Gaussian location-scale model.  \n",
        "-  First formula: mean structure.  \n",
        " - Second formula: log(sigma) structure."
      ],
      "metadata": {
        "id": "rGQncwSfo_Bo"
      }
    },
    {
      "cell_type": "code",
      "source": [
        "%%R -w 550 -h 450 -u px\n",
        "plot(m6, select = 1, main = \"Mean: s(length)\")\n",
        "plot(m6, select = 2, main = \"Variance: s(diameter)\")"
      ],
      "metadata": {
        "colab": {
          "base_uri": "https://localhost:8080/",
          "height": 917
        },
        "id": "d_0brem5fgqN",
        "outputId": "795c90da-4805-40c2-9f34-be7fdb419ef9"
      },
      "execution_count": 32,
      "outputs": [
        {
          "output_type": "display_data",
          "data": {
            "image/png": "[encoded data removed]"
          },
          "metadata": {}
        },
        {
          "output_type": "display_data",
          "data": {
            "image/png": "[encoded data removed]"
          },
          "metadata": {}
        }
      ]
    },
    {
      "cell_type": "markdown",
      "source": [
        "## Zero-Inflated GAM — Simulate or Use `Salamanders` (glmmTMB)\n",
        "\n",
        "We’ll use `glmmTMB` since `mgcv`'s `ziP()` is limited."
      ],
      "metadata": {
        "id": "z9jU5md7pGDY"
      }
    },
    {
      "cell_type": "code",
      "source": [
        "%%R\n",
        "data(Salamanders, package = \"glmmTMB\")\n",
        "\n",
        "head(Salamanders)\n",
        "# count (many zeros), mined (Yes/No), cover, DOY, etc."
      ],
      "metadata": {
        "colab": {
          "base_uri": "https://localhost:8080/"
        },
        "id": "VkQGU7rTpHI-",
        "outputId": "a56869c1-e652-4293-908b-fa044ebadcbb"
      },
      "execution_count": 33,
      "outputs": [
        {
          "output_type": "stream",
          "name": "stdout",
          "text": [
            "  site mined      cover sample        DOP       Wtemp       DOY spp count\n",
            "1 VF-1   yes -1.4423172      1 -0.5956834 -1.22937861 -1.497003  GP     0\n",
            "2 VF-2   yes  0.2984104      1 -0.5956834  0.08476529 -1.497003  GP     0\n",
            "3 VF-3   yes  0.3978806      1 -1.1913668  1.01417627 -1.294467  GP     0\n",
            "4  R-1    no -0.4476157      1  0.0000000 -3.02335795 -2.712216  GP     2\n",
            "5  R-2    no  0.5968209      1  0.5956834 -0.14434533 -0.686860  GP     2\n",
            "6  R-3    no  1.3428470      1  0.5956834 -0.01466007 -0.686860  GP     1\n"
          ]
        }
      ]
    },
    {
      "cell_type": "markdown",
      "source": [
        "### Fit zero-inflated Poisson GAM"
      ],
      "metadata": {
        "id": "uliqCRQnfsqY"
      }
    },
    {
      "cell_type": "code",
      "source": [
        "%%R\n",
        "m7 <- glmmTMB(count ~ cover + mined + (1 | site),\n",
        "              ziformula = ~ mined + DOY,\n",
        "              family = poisson,\n",
        "              data = Salamanders)"
      ],
      "metadata": {
        "id": "A8iZ9k39pOIl"
      },
      "execution_count": 34,
      "outputs": []
    },
    {
      "cell_type": "code",
      "source": [
        "%%R\n",
        "# Extract zero-inflation coefficients (matrix)\n",
        "zi_coefs <- summary(m7)$zicoefficients\n",
        "\n",
        "# Convert safely to tibble\n",
        "zi_tidy <- data.frame(\n",
        "  term = rownames(zi_coefs),\n",
        "  estimate = zi_coefs[, 1],\n",
        "  std.error = zi_coefs[, 2],\n",
        "  statistic = zi_coefs[, 3],\n",
        "  p.value = zi_coefs[, 4],\n",
        "  row.names = NULL\n",
        ") %>%\n",
        "  as_tibble()\n",
        "\n",
        "# Print results\n",
        "cat(\"=== Zero-Inflation Model Coefficients ===\\n\")\n",
        "print(zi_tidy)"
      ],
      "metadata": {
        "colab": {
          "base_uri": "https://localhost:8080/"
        },
        "id": "QgLu6ymipXJG",
        "outputId": "4f6afbdd-f6f9-4557-cb79-91490a89642d"
      },
      "execution_count": 35,
      "outputs": [
        {
          "output_type": "stream",
          "name": "stdout",
          "text": [
            "=== Zero-Inflation Model Coefficients ===\n",
            "# A tibble: 0 × 0\n"
          ]
        }
      ]
    },
    {
      "cell_type": "markdown",
      "source": [
        "## Shape-Constrained GAM — `scam` with `trees` dataset\n",
        "\n",
        "Dataset: Tree volume vs height and girth (built-in `trees` dataset)"
      ],
      "metadata": {
        "id": "xLBB3-r0pb7i"
      }
    },
    {
      "cell_type": "code",
      "source": [
        "%%R\n",
        "data(trees)\n",
        "head(trees)  # Girth, Height, Volume"
      ],
      "metadata": {
        "colab": {
          "base_uri": "https://localhost:8080/"
        },
        "id": "y9F8Q7PWpeOC",
        "outputId": "d113796c-183a-478c-bcf2-32b09c56db2a"
      },
      "execution_count": 36,
      "outputs": [
        {
          "output_type": "stream",
          "name": "stdout",
          "text": [
            "  Girth Height Volume\n",
            "1   8.3     70   10.3\n",
            "2   8.6     65   10.3\n",
            "3   8.8     63   10.2\n",
            "4  10.5     72   16.4\n",
            "5  10.7     81   18.8\n",
            "6  10.8     83   19.7\n"
          ]
        }
      ]
    },
    {
      "cell_type": "markdown",
      "source": [
        "### Fit monotonic increasing smooth for Girth → Volume"
      ],
      "metadata": {
        "id": "ulJDc_L3piCO"
      }
    },
    {
      "cell_type": "code",
      "source": [
        "%%R\n",
        "m8 <- scam(Volume ~ s(Girth, bs = \"mpi\") + Height, data = trees)\n",
        "summary(m8)"
      ],
      "metadata": {
        "colab": {
          "base_uri": "https://localhost:8080/"
        },
        "id": "pAOuV89LpeUr",
        "outputId": "638e98a6-854b-4bfd-9b94-3e23f5f82ee2"
      },
      "execution_count": 37,
      "outputs": [
        {
          "output_type": "stream",
          "name": "stdout",
          "text": [
            "\n",
            "Family: gaussian \n",
            "Link function: identity \n",
            "\n",
            "Formula:\n",
            "Volume ~ s(Girth, bs = \"mpi\") + Height\n",
            "\n",
            "Parametric coefficients:\n",
            "            Estimate Std. Error t value Pr(>|t|)    \n",
            "(Intercept)  3.13944    7.07614   0.444 0.660912    \n",
            "Height       0.35568    0.09289   3.829 0.000718 ***\n",
            "---\n",
            "Signif. codes:  0 ‘***’ 0.001 ‘**’ 0.01 ‘*’ 0.05 ‘.’ 0.1 ‘ ’ 1\n",
            "\n",
            "Approximate significance of smooth terms:\n",
            "           edf Ref.df     F p-value    \n",
            "s(Girth) 2.698  3.292 211.2  <2e-16 ***\n",
            "---\n",
            "Signif. codes:  0 ‘***’ 0.001 ‘**’ 0.01 ‘*’ 0.05 ‘.’ 0.1 ‘ ’ 1\n",
            "\n",
            "R-sq.(adj) =  0.9732   Deviance explained = 97.6%\n",
            "GCV score = 8.5417  Scale est. = 7.2473    n = 31\n",
            "\n"
          ]
        }
      ]
    },
    {
      "cell_type": "code",
      "source": [
        "%%R\n",
        "plot(m8, select = 1, main = \"Monotonic Smooth: Girth → Volume\")"
      ],
      "metadata": {
        "colab": {
          "base_uri": "https://localhost:8080/",
          "height": 497
        },
        "id": "u0g0haEHpnTc",
        "outputId": "aedc377e-9be1-420e-9f7b-a1b9e894acca"
      },
      "execution_count": 38,
      "outputs": [
        {
          "output_type": "display_data",
          "data": {
            "image/png": "[encoded data removed]"
          },
          "metadata": {}
        }
      ]
    },
    {
      "cell_type": "markdown",
      "source": [
        "-  `bs = \"mpi\"` = monotonic increasing P-spline.  \n",
        "- `Height` is parametric linear term."
      ],
      "metadata": {
        "id": "vU8vRJPOprAC"
      }
    },
    {
      "cell_type": "markdown",
      "source": [
        "### Compare with unconstrained GAM:"
      ],
      "metadata": {
        "id": "zes7aE0Tprtq"
      }
    },
    {
      "cell_type": "code",
      "source": [
        "%%R\n",
        "m8_unconstrained <- gam(Volume ~ s(Girth) + Height, data = trees)\n",
        "summary(m8_unconstrained)"
      ],
      "metadata": {
        "colab": {
          "base_uri": "https://localhost:8080/"
        },
        "id": "8cYF6Pxapv3O",
        "outputId": "f9bb77e0-7b6c-4e0d-9718-94524f87c5a6"
      },
      "execution_count": 39,
      "outputs": [
        {
          "output_type": "stream",
          "name": "stdout",
          "text": [
            "\n",
            "Family: gaussian \n",
            "Link function: identity \n",
            "\n",
            "Formula:\n",
            "Volume ~ s(Girth) + Height\n",
            "\n",
            "Parametric coefficients:\n",
            "            Estimate Std. Error t value Pr(>|t|)    \n",
            "(Intercept)  1.52559    7.17647   0.213 0.833292    \n",
            "Height       0.37691    0.09421   4.001 0.000459 ***\n",
            "---\n",
            "Signif. codes:  0 ‘***’ 0.001 ‘**’ 0.01 ‘*’ 0.05 ‘.’ 0.1 ‘ ’ 1\n",
            "\n",
            "Approximate significance of smooth terms:\n",
            "           edf Ref.df   F p-value    \n",
            "s(Girth) 2.693  3.368 207  <2e-16 ***\n",
            "---\n",
            "Signif. codes:  0 ‘***’ 0.001 ‘**’ 0.01 ‘*’ 0.05 ‘.’ 0.1 ‘ ’ 1\n",
            "\n",
            "R-sq.(adj) =  0.973   Deviance explained = 97.7%\n",
            "GCV = 8.4734  Scale est. = 7.1905    n = 31\n"
          ]
        }
      ]
    },
    {
      "cell_type": "code",
      "source": [
        "%%R\n",
        "plot(m8_unconstrained, select = 1, main = \"Unconstrained Smooth\")"
      ],
      "metadata": {
        "colab": {
          "base_uri": "https://localhost:8080/",
          "height": 497
        },
        "id": "AmZVXj-BpzNq",
        "outputId": "0efcc659-d3a8-4705-e34d-402cbd6ef303"
      },
      "execution_count": 40,
      "outputs": [
        {
          "output_type": "display_data",
          "data": {
            "image/png": "[encoded data removed]"
          },
          "metadata": {}
        }
      ]
    },
    {
      "cell_type": "markdown",
      "source": [
        "\n",
        "## Summary and Conclusion\n",
        "\n",
        "GAMs with parametric terms offer a powerful approach to modeling data with both non-linear and simple, well-defined relationships. By combining smooth functions (e.g., splines) with parametric terms (e.g., linear or categorical), these models provide flexibility, interpretability, and efficiency. They are particularly useful in applications where some predictors have known linear or categorical effects, while others require flexible modeling. Tools like R’s `mgcv` make implementation straightforward, and careful model selection ensures optimal performance. This tutorial covered various examples, from basic GAMs to more complex models like GAMMs, location-scale models, and zero-inflated GAMs, demonstrating the versatility of this approach."
      ],
      "metadata": {
        "id": "DCI0dXetOhA0"
      }
    },
    {
      "cell_type": "markdown",
      "source": [
        "## Resources\n",
        "\n",
        "1. *Generalized Additive Models: An Introduction with R* — Simon Wood (2017)\n",
        "2. [mgcv documentation](https://cran.r-project.org/web/packages/mgcv/index.html)\n",
        "3. [GAMs in R — Noam Ross (YouTube)](https://www.youtube.com/watch?v=ngHFVr9KFRQ)\n",
        "4. [gratia GitHub](https://github.com/gavinsimpson/gratia)\n",
        "\n",
        "\n"
      ],
      "metadata": {
        "id": "7xBtQkhvOlwc"
      }
    }
  ],
  "metadata": {
    "kernelspec": {
      "display_name": "Python 3",
      "name": "python3"
    },
    "language_info": {
      "name": "python"
    },
    "colab": {
      "provenance": [],
      "toc_visible": true,
      "include_colab_link": true
    }
  },
  "nbformat": 4,
  "nbformat_minor": 0
}