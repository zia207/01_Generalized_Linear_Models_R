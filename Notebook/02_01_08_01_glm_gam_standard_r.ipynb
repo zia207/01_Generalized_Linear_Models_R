{
  "cells": [
    {
      "cell_type": "markdown",
      "metadata": {
        "id": "view-in-github",
        "colab_type": "text"
      },
      "source": [
        "<a href=\"https://colab.research.google.com/github/zia207/01_Generalized_Linear_Models_R/blob/main/Notebook/02_01_08_01_glm_gam_standard_r.ipynb\" target=\"_parent\"><img src=\"https://colab.research.google.com/assets/colab-badge.svg\" alt=\"Open In Colab\"/></a>"
      ]
    },
    {
      "cell_type": "markdown",
      "metadata": {
        "id": "Xu_crfiZLczD"
      },
      "source": [
        "![alt text](http://drive.google.com/uc?export=view&id=1bLQ3nhDbZrCCqy_WCxxckOne2lgVvn3l)"
      ]
    },
    {
      "cell_type": "markdown",
      "source": [
        "# 8.1 Stansard Generalized Additive Models (GAM)\n",
        "\n",
        "A **Standard GAM** (Generalized Additive Model) is the **basic and most commonly used form** of GAM. It extends the **Generalized Linear Model (GLM)** by allowing **non-linear, smooth relationships** between the predictors and the response variable, while maintaining **additivity** — meaning each predictor's effect is modeled separately and added together.\n",
        "\n",
        "Instead of assuming a linear relationship like in GLMs (e.g., $\\beta_1 X_1$, a Standard GAM uses **smooth functions** (like splines) to estimate the shape of the relationship directly from the data — without requiring you to specify whether it's quadratic, logarithmic, etc.\n",
        "\n"
      ],
      "metadata": {
        "id": "J42bCd1ZNH-A"
      }
    },
    {
      "cell_type": "markdown",
      "source": [
        "\n",
        "For a response variable $Y$ with mean $\\mu = \\mathbb{E}[Y]$, and predictors $X_1, X_2, \\dots, X_p$  a Standard GAM is written as:\n",
        "\n",
        "$$\n",
        "g(\\mu) = \\beta_0 + f_1(X_1) + f_2(X_2) + \\cdots + f_p(X_p)\n",
        "$$\n",
        "\n",
        "Where:\n",
        "- $g(\\cdot)$ = **link function** (e.g., identity for normal, logit for binary, log for counts),\n",
        "- $\\beta_0$ = intercept,\n",
        "- $f_j(X_j)$ = **smooth, non-parametric function** of predictor $X_j$ (usually estimated using splines).\n",
        "\n",
        "> The model is \"additive\" because the effects of predictors are **summed**, not multiplied or interacted (unless explicitly added).\n",
        "\n",
        "\n",
        "\n",
        "Suppose you're modeling **blood pressure** (continuous) as a function of:\n",
        "- Age\n",
        "- BMI\n",
        "- Smoking status (categorical)\n",
        "\n",
        "A Standard GAM might look like:\n",
        "\n",
        "$$\n",
        "\\text{Blood Pressure} = \\beta_0 + f_1(\\text{Age}) + f_2(\\text{BMI}) + \\beta_1 \\cdot \\text{Smoking}\n",
        "$$\n",
        "\n",
        "Here:\n",
        "\n",
        "- $f_1(\\text{Age}$: smooth non-linear curve showing how BP changes with age,\n",
        "- $f_2(\\text{BMI})$: flexible curve for BMI effect,\n",
        "- Smoking: linear (parametric) term.\n",
        "\n",
        "Even if one term is linear, it's still considered a Standard GAM as long as smooth terms are present.\n",
        "\n"
      ],
      "metadata": {
        "id": "o55QjJtZNyeK"
      }
    },
    {
      "cell_type": "markdown",
      "source": [
        "### Advantages\n",
        "\n",
        "| Benefit | Description |\n",
        "|--------|-------------|\n",
        "| **Flexibility** | Captures non-linear patterns automatically (e.g., U-shaped, threshold effects). |\n",
        "| **Interpretability** | Each smooth function \\( f_j(X_j) \\) can be plotted and interpreted individually. |\n",
        "| **No manual transformation needed** | You don’t have to guess if `log(X)` or `X²` fits better — the model learns the shape. |\n",
        "| **Extends GLMs** | Works with binary, count, continuous, and other response types via link functions. |"
      ],
      "metadata": {
        "id": "O_PkjjfeVBWj"
      }
    },
    {
      "cell_type": "markdown",
      "source": [
        "\n",
        "### Limitations\n",
        "\n",
        "| Limitation | Note |\n",
        "|----------|------|\n",
        "| **Assumes additivity** | Cannot capture interactions unless explicitly added (e.g., `te(x,z)`). |\n",
        "| **May overfit** | Without proper smoothing penalties, it can fit noise. |\n",
        "| **Smoothing parameter selection** | Requires careful tuning (but modern software like `mgcv` handles this well). |"
      ],
      "metadata": {
        "id": "IMqpWevCVERS"
      }
    },
    {
      "cell_type": "markdown",
      "source": [
        "### When to Use a  GAM?\n",
        "\n",
        "Use a Standard GAM when:\n",
        "- You suspect **non-linear relationships** (e.g., medical, ecological, or environmental data),\n",
        "- You want a **balance between flexibility and interpretability**,\n",
        "- You do **not expect strong interactions** among predictors (or will add them later),\n",
        "- You're exploring data or building predictive models with smooth trends."
      ],
      "metadata": {
        "id": "A3NFyr0kVKkF"
      }
    },
    {
      "cell_type": "markdown",
      "source": [
        "## Install rpy2"
      ],
      "metadata": {
        "id": "vGVog4IgVL73"
      }
    },
    {
      "cell_type": "code",
      "source": [
        "!pip uninstall rpy2 -y\n",
        "!pip install rpy2==3.5.1\n",
        "%load_ext rpy2.ipython"
      ],
      "metadata": {
        "colab": {
          "base_uri": "https://localhost:8080/"
        },
        "id": "tbyuTJCOVMuz",
        "outputId": "38b2098d-76ba-451a-b5bf-c5591847ec0e"
      },
      "execution_count": null,
      "outputs": [
        {
          "output_type": "stream",
          "name": "stdout",
          "text": [
            "Found existing installation: rpy2 3.5.17\n",
            "Uninstalling rpy2-3.5.17:\n",
            "  Successfully uninstalled rpy2-3.5.17\n",
            "Collecting rpy2==3.5.1\n",
            "  Downloading rpy2-3.5.1.tar.gz (201 kB)\n",
            "\u001b[2K     \u001b[90m━━━━━━━━━━━━━━━━━━━━━━━━━━━━━━━━━━━━━━━\u001b[0m \u001b[32m201.7/201.7 kB\u001b[0m \u001b[31m6.8 MB/s\u001b[0m eta \u001b[36m0:00:00\u001b[0m\n",
            "\u001b[?25h  Preparing metadata (setup.py) ... \u001b[?25l\u001b[?25hdone\n",
            "Requirement already satisfied: cffi>=1.10.0 in /usr/local/lib/python3.12/dist-packages (from rpy2==3.5.1) (2.0.0)\n",
            "Requirement already satisfied: jinja2 in /usr/local/lib/python3.12/dist-packages (from rpy2==3.5.1) (3.1.6)\n",
            "Requirement already satisfied: pytz in /usr/local/lib/python3.12/dist-packages (from rpy2==3.5.1) (2025.2)\n",
            "Requirement already satisfied: tzlocal in /usr/local/lib/python3.12/dist-packages (from rpy2==3.5.1) (5.3.1)\n",
            "Requirement already satisfied: pycparser in /usr/local/lib/python3.12/dist-packages (from cffi>=1.10.0->rpy2==3.5.1) (2.23)\n",
            "Requirement already satisfied: MarkupSafe>=2.0 in /usr/local/lib/python3.12/dist-packages (from jinja2->rpy2==3.5.1) (3.0.2)\n",
            "Building wheels for collected packages: rpy2\n",
            "  Building wheel for rpy2 (setup.py) ... \u001b[?25l\u001b[?25hdone\n",
            "  Created wheel for rpy2: filename=rpy2-3.5.1-cp312-cp312-linux_x86_64.whl size=316567 sha256=e719f632fa438c4ebbc6ded748a19d68e33459d8f67a253b29336f297bc45d14\n",
            "  Stored in directory: /root/.cache/pip/wheels/00/26/d5/d5e8c0b039915e785be870270e4a9263e5058168a03513d8cc\n",
            "Successfully built rpy2\n",
            "Installing collected packages: rpy2\n",
            "Successfully installed rpy2-3.5.1\n"
          ]
        }
      ]
    },
    {
      "cell_type": "markdown",
      "source": [
        "## Mount Google Drive"
      ],
      "metadata": {
        "id": "4k9BA2fnVhBU"
      }
    },
    {
      "cell_type": "code",
      "source": [
        "from google.colab import drive\n",
        "drive.mount('/content/drive')"
      ],
      "metadata": {
        "colab": {
          "base_uri": "https://localhost:8080/"
        },
        "id": "gWTmwoRdVigu",
        "outputId": "5acebaac-8c7e-42c0-c4cc-c4990aec02f9"
      },
      "execution_count": null,
      "outputs": [
        {
          "output_type": "stream",
          "name": "stdout",
          "text": [
            "Mounted at /content/drive\n"
          ]
        }
      ]
    },
    {
      "cell_type": "markdown",
      "source": [
        "## Generalized Additive Model from Scratch\n",
        "\n",
        "To develop a Generalized Additive Model (GAM) with 4 predictors from scratch in R, we’ll apply cubic spline basis functions to each predictor independently. This will allow each predictor to have a non-linear effect on the outcome variable. We’ll also include a regularization term to prevent overfitting. The model will be fit using least squares optimization."
      ],
      "metadata": {
        "id": "1AXWggBCYFg9"
      }
    },
    {
      "cell_type": "markdown",
      "source": [
        "### Generate Spline Basis for Each Predictor\n",
        "\n",
        "For each predictor, we'll create a cubic spline basis matrix with `num_knots`. We'll use this basis for the GAM."
      ],
      "metadata": {
        "id": "06QJwXlbYNiV"
      }
    },
    {
      "cell_type": "code",
      "source": [
        "%%R\n",
        "cubic_spline_basis <- function(x, knots) {\n",
        "  X <- cbind(1, x, x^2, x^3)  # Polynomial terms up to cubic\n",
        "  for (knot in knots) {\n",
        "    X <- cbind(X, pmax(0, (x - knot)^3))  # Truncated cubic splines at each knot\n",
        "  }\n",
        "  return(X)\n",
        "}"
      ],
      "metadata": {
        "id": "xlC-yYsxYOw7"
      },
      "execution_count": null,
      "outputs": []
    },
    {
      "cell_type": "markdown",
      "source": [
        "### Combine Spline Basis Functions into a Design Matrix\n",
        "\n",
        "Next, we construct the full design matrix by generating spline basis functions for each predictor and concatenating them."
      ],
      "metadata": {
        "id": "GHP66azZYV9V"
      }
    },
    {
      "cell_type": "code",
      "source": [
        "%%R\n",
        "create_design_matrix <- function(data, predictors, num_knots) {\n",
        "  X_spline <- NULL\n",
        "  spline_list <- list()  # To store each predictor's spline basis\n",
        "\n",
        "  for (predictor in predictors) {\n",
        "    x <- data[[predictor]]\n",
        "    knots <- seq(min(x), max(x), length.out = num_knots)  # Equally spaced knots\n",
        "    X_spline_predictor <- cubic_spline_basis(x, knots)  # Generate spline basis\n",
        "    spline_list[[predictor]] <- X_spline_predictor\n",
        "    X_spline <- cbind(X_spline, X_spline_predictor)  # Append to design matrix\n",
        "  }\n",
        "\n",
        "  return(list(X_spline = X_spline, spline_list = spline_list))\n",
        "}"
      ],
      "metadata": {
        "id": "r4cNPJ2IYWv5"
      },
      "execution_count": null,
      "outputs": []
    },
    {
      "cell_type": "markdown",
      "source": [
        "### Fit the Model by Solving the Regularized System\n",
        "\n",
        "Here, we add a small regularization term $\\lambda$ to ensure the matrix $X^T X$ is invertible, then solve for the coefficien"
      ],
      "metadata": {
        "id": "k42SQVOAYcnT"
      }
    },
    {
      "cell_type": "code",
      "source": [
        "%%R\n",
        "fit_gam_model <- function(X_spline, y, lambda = 0.0001) {\n",
        "  XtX <- t(X_spline) %*% X_spline + lambda * diag(ncol(X_spline))  # Regularization\n",
        "  Xty <- t(X_spline) %*% y\n",
        "  coefficients <- solve(XtX, Xty)  # Solve for coefficients\n",
        "  return(coefficients)\n",
        "}"
      ],
      "metadata": {
        "id": "lUcDa-gIYdZN"
      },
      "execution_count": null,
      "outputs": []
    },
    {
      "cell_type": "markdown",
      "source": [
        "### Make Predictions\n",
        "\n",
        "With the coefficients, we can predict the outcome for the training data."
      ],
      "metadata": {
        "id": "F-Q_peXJYjip"
      }
    },
    {
      "cell_type": "code",
      "source": [
        "%%R\n",
        "predict_gam <- function(X_spline, coefficients) {\n",
        "  y_pred <- X_spline %*% coefficients\n",
        "  return(y_pred)\n",
        "}"
      ],
      "metadata": {
        "id": "cDRd7KVmYkT1"
      },
      "execution_count": null,
      "outputs": []
    },
    {
      "cell_type": "markdown",
      "source": [
        "### Model Summary Statistics\n",
        "\n",
        "After fitting, we’ll calculate residuals, deviance, and mean squared error to summarize model fit."
      ],
      "metadata": {
        "id": "VljCDhQpYrwZ"
      }
    },
    {
      "cell_type": "code",
      "source": [
        "%%R\n",
        "compute_summary_stats <- function(y, y_pred) {\n",
        "  residuals <- y - y_pred\n",
        "  deviance <- sum(residuals^2)  # Residual Sum of Squares\n",
        "  mse <- mean(residuals^2)      # Mean Squared Error\n",
        "\n",
        "  return(list(residuals = residuals, deviance = deviance, mse = mse))\n",
        "}"
      ],
      "metadata": {
        "id": "une5WmOFYsbK"
      },
      "execution_count": null,
      "outputs": []
    },
    {
      "cell_type": "markdown",
      "source": [
        "### ANOVA-Like Table for Predictor Effects\n",
        "\n",
        "We’ll estimate each predictor's effect by fitting sub-models with each individual predictor's spline matrix."
      ],
      "metadata": {
        "id": "IH5Vos6_Yy5a"
      }
    },
    {
      "cell_type": "code",
      "source": [
        "%%R\n",
        "compute_anova_table <- function(data, response, predictors, spline_list, lambda = 0.0001) {\n",
        "  anova_table <- data.frame(\n",
        "    Predictor = predictors,\n",
        "    Sum_of_Squares = sapply(predictors, function(predictor) {\n",
        "      X_pred <- spline_list[[predictor]]\n",
        "      XtX_single <- t(X_pred) %*% X_pred + lambda * diag(ncol(X_pred))\n",
        "      Xty_single <- t(X_pred) %*% data[[response]]\n",
        "      coefficients_single <- solve(XtX_single, Xty_single)\n",
        "      residuals_single <- data[[response]] - X_pred %*% coefficients_single\n",
        "      return(sum(residuals_single^2))\n",
        "    })\n",
        "  )\n",
        "  return(anova_table)\n",
        "}"
      ],
      "metadata": {
        "id": "Qmd03v-jYzze"
      },
      "execution_count": null,
      "outputs": []
    },
    {
      "cell_type": "markdown",
      "source": [
        "### Cross-Validation for Model Performance\n",
        "\n",
        "We’ll use **k-fold cross-validation** to estimate model performance on unseen data. Here’s the cross-validation setup:"
      ],
      "metadata": {
        "id": "vYjtaJoFY5fi"
      }
    },
    {
      "cell_type": "code",
      "source": [
        "%%R\n",
        "cross_validate_gam <- function(data, response, predictors, num_knots = 3, lambda = 0.0001, k_folds = 5) {\n",
        "  n <- nrow(data)\n",
        "  fold_size <- n %/% k_folds\n",
        "  indices <- sample(n)\n",
        "  mse_folds <- numeric(k_folds)\n",
        "\n",
        "  for (fold in 1:k_folds) {\n",
        "    # Define training and validation sets\n",
        "    validation_idx <- indices[((fold - 1) * fold_size + 1):(fold * fold_size)]\n",
        "    train_data <- data[-validation_idx, ]\n",
        "    validation_data <- data[validation_idx, ]\n",
        "\n",
        "    # Create design matrix for training data\n",
        "    train_design <- create_design_matrix(train_data, predictors, num_knots)\n",
        "    X_train <- train_design$X_spline\n",
        "    y_train <- train_data[[response]]\n",
        "\n",
        "    # Fit the model on training data\n",
        "    coefficients <- fit_gam_model(X_train, y_train, lambda)\n",
        "\n",
        "    # Design matrix for validation data\n",
        "    validation_design <- create_design_matrix(validation_data, predictors, num_knots)\n",
        "    X_val <- validation_design$X_spline\n",
        "    y_val <- validation_data[[response]]\n",
        "\n",
        "    # Predict on validation set and calculate MSE\n",
        "    y_val_pred <- predict_gam(X_val, coefficients)\n",
        "    mse_folds[fold] <- mean((y_val - y_val_pred)^2)\n",
        "  }\n",
        "\n",
        "  cv_mse <- mean(mse_folds)  # Average MSE over folds\n",
        "  return(cv_mse)\n",
        "}"
      ],
      "metadata": {
        "id": "spdX5zvSY6Na"
      },
      "execution_count": null,
      "outputs": []
    },
    {
      "cell_type": "markdown",
      "source": [
        "### Fit the GAM model with Synthetic Data\n",
        "\n",
        "Let’s fit the GAM model on synthetic data and show summary results, ANOVA table, and cross-validation performance."
      ],
      "metadata": {
        "id": "4oNHlW56ZCrN"
      }
    },
    {
      "cell_type": "code",
      "source": [
        "%%R\n",
        "# Set up data and parameters\n",
        "set.seed(0)\n",
        "n_samples <- 100\n",
        "data <- data.frame(\n",
        "  x1 = seq(0, 10, length.out = n_samples),\n",
        "  x2 = runif(n_samples, 0, 10),\n",
        "  x3 = runif(n_samples, 0, 10),\n",
        "  x4 = runif(n_samples, 0, 10)\n",
        ")\n",
        "data$y <- 3 * sin(data$x1) + 2 * log(data$x2 + 1) - 1.5 * sqrt(data$x3) + 0.5 * data$x4^2 +\n",
        "  rnorm(n_samples, mean = 0, sd = 0.5)\n",
        "\n",
        "predictors <- c(\"x1\", \"x2\", \"x3\", \"x4\")\n",
        "response <- \"y\"\n",
        "num_knots <- 4\n",
        "lambda <- 0.0001\n",
        "\n",
        "# Create design matrix\n",
        "design_matrix <- create_design_matrix(data, predictors, num_knots)\n",
        "X_spline <- design_matrix$X_spline\n",
        "spline_list <- design_matrix$spline_list\n",
        "\n",
        "# Fit model and make predictions\n",
        "coefficients <- fit_gam_model(X_spline, data[[response]], lambda)\n",
        "y_pred <- predict_gam(X_spline, coefficients)\n",
        "\n",
        "# Calculate summary statistics\n",
        "summary_stats <- compute_summary_stats(data[[response]], y_pred)\n",
        "\n",
        "# ANOVA table\n",
        "anova_table <- compute_anova_table(data, response, predictors, spline_list, lambda)\n",
        "\n",
        "# Cross-Validation\n",
        "cv_mse <- cross_validate_gam(data, response, predictors, num_knots, lambda)\n",
        "\n",
        "# Print results\n",
        "cat(\"GAM Summary:\\n\")\n",
        "cat(\"-----------------------------------------------------\\n\")\n",
        "cat(\"Coefficients:\\n\")\n",
        "print(coefficients)\n",
        "cat(\"\\nMean Squared Error:\", round(summary_stats$mse, 4), \"\\n\")\n",
        "cat(\"Deviance:\", round(summary_stats$deviance, 4), \"\\n\")\n",
        "cat(\"Residuals:\\n\")\n",
        "print(head(summary_stats$residuals))\n",
        "cat(\"\\nANOVA for Parametric Effects:\\n\")\n",
        "print(anova_table)\n",
        "cat(\"\\nCross-Validated MSE:\", round(cv_mse, 4), \"\\n\")"
      ],
      "metadata": {
        "colab": {
          "base_uri": "https://localhost:8080/"
        },
        "id": "OLjG9IhtZDfx",
        "outputId": "61fd5c4c-4682-44a6-e930-71351b0da41a"
      },
      "execution_count": null,
      "outputs": [
        {
          "output_type": "stream",
          "name": "stdout",
          "text": [
            "GAM Summary:\n",
            "-----------------------------------------------------\n",
            "Coefficients:\n",
            "          [,1]\n",
            "  -0.023161446\n",
            "x  8.271536899\n",
            "  -4.329322919\n",
            "   0.275686636\n",
            "   0.275695500\n",
            "  -0.660576687\n",
            "  -0.203910265\n",
            "   0.000000000\n",
            "  -0.023161433\n",
            "x  0.613274246\n",
            "   0.203200014\n",
            "   0.001823434\n",
            "  -0.046732545\n",
            "   0.086780236\n",
            "  -0.116798305\n",
            "   0.000000000\n",
            "  -0.023161434\n",
            "x -1.996700892\n",
            "   0.481029857\n",
            "   0.116905330\n",
            "  -0.174186312\n",
            "   0.061741229\n",
            "  -0.009306572\n",
            "   0.000000000\n",
            "  -0.023161429\n",
            "x -0.634787868\n",
            "   0.435048209\n",
            "   0.250548166\n",
            "  -0.258617892\n",
            "  -0.003922149\n",
            "  -0.010824794\n",
            "   0.000000000\n",
            "\n",
            "Mean Squared Error: 0.4349 \n",
            "Deviance: 43.4897 \n",
            "Residuals:\n",
            "            [,1]\n",
            "[1,]  1.19802648\n",
            "[2,]  0.01107583\n",
            "[3,]  0.02853082\n",
            "[4,]  1.18566512\n",
            "[5,]  0.29919007\n",
            "[6,] -0.59918471\n",
            "\n",
            "ANOVA for Parametric Effects:\n",
            "   Predictor Sum_of_Squares\n",
            "x1        x1     19152.0461\n",
            "x2        x2     19581.0390\n",
            "x3        x3     20748.8882\n",
            "x4        x4       594.4656\n",
            "\n",
            "Cross-Validated MSE: 478.694 \n"
          ]
        }
      ]
    },
    {
      "cell_type": "markdown",
      "source": [
        "### Explanation of Output\n",
        "\n",
        "1.  **Coefficients**: Estimated coefficients for each basis function in the design matrix.\n",
        "2.  **MSE and Deviance**: Summary statistics of the model fit on the training data.\n",
        "3.  **Residuals**: Differences between actual and predicted values.\n",
        "4.  **ANOVA Table**: Shows the sum of squares contributed by each predictor.\n",
        "5.  **Cross-Validated MSE**: Model’s performance on unseen data, averaged across folds. This gives an unbiased estimate of the model’s prediction error.\n",
        "\n",
        "This approach builds the GAM model manually from scratch without relying on GAM-specific R packages, and it evaluates performance using cross-validation to check for overfitting or underfitting."
      ],
      "metadata": {
        "id": "kGClveMnZfB9"
      }
    },
    {
      "cell_type": "markdown",
      "source": [
        "## Generalized Additive Model in R\n",
        "\n",
        "In R, you can fit Generalized Additive Models (GAMs) using different packages, each offering unique functionalities. Here’s a quick guide to fitting GAMs using three popular packages:\n",
        "\n",
        "1. **`mgcv` Package**\n",
        "\n",
        "-   `mgcv` is the most widely used package for GAMs in R due to its flexibility, efficiency, and support for a wide range of models. It uses penalized regression splines by default.\n",
        "\n",
        "-   **Key Features:** `mgcv` provides a variety of smooth functions (e.g., `s()`, `te()` for tensor product smoothing) and allows you to specify different distributions and link functions using `family=`.\n",
        "\n",
        "2. **gam Package**\n",
        "\n",
        "-   The `gam` package (distinct from `mgcv`) is based on Hastie and Tibshirani’s original GAM framework. It has a simpler interface but is less flexible than `mgcv` for complex models.\n",
        "\n",
        "-   **Key Features:** The `gam` package is good for standard GAMs and allows `lo()` for locally-weighted regression smoothers. It’s simpler but lacks some of the advanced features found in `mgcv`.\n",
        "\n",
        " 3. **`gamlss` Package**\n",
        "\n",
        "-   `gamlss` (Generalized Additive Models for Location, Scale, and Shape) extends GAMs to model not only the mean (location) but also other parameters (e.g., scale, shape) of the distribution.\n",
        "\n",
        "-   **Key Features:** `gamlss` is highly flexible for distributional modeling. It supports a wide range of distributions, including non-standard ones, and allows for different smoothers (e.g., `pb()` for P-splines).\n"
      ],
      "metadata": {
        "id": "JDQy1SxqZgD7"
      }
    },
    {
      "cell_type": "markdown",
      "source": [
        "### Install Required R Packages\n",
        "\n",
        "Following R packages are required to run this notebook. If any of these packages are not installed, you can install them using the code below:"
      ],
      "metadata": {
        "id": "BMswsyR_WV7B"
      }
    },
    {
      "cell_type": "code",
      "source": [
        "%%R\n",
        "packages <- c('tidyverse',\n",
        "     'plyr',\n",
        "\t  'DataExplorer',\n",
        "\t\t 'dlookr',\n",
        "\t\t 'rstatix',\n",
        "\t\t 'gtsummary',\n",
        "\t\t 'performance',\n",
        "\t   'report',\n",
        "\t\t 'sjPlot',\n",
        "\t\t 'margins',\n",
        "\t\t 'marginaleffects',\n",
        "\t\t 'ggeffects',\n",
        "\t   'ggpmisc',\n",
        "\t\t 'patchwork',\n",
        "\t\t 'MASS',\n",
        "\t   'gam',\n",
        " \t\t 'gamair',\n",
        " \t\t 'mgcv',\n",
        " \t\t 'gamlss',\n",
        " \t\t 'gratia',\n",
        " \t\t #'itsadug',  # we will load this pacakge later\n",
        " \t\t 'agridat'\n",
        "\t  \t)\n"
      ],
      "metadata": {
        "id": "eXQzizpsWWFj"
      },
      "execution_count": null,
      "outputs": []
    },
    {
      "cell_type": "code",
      "source": [
        "%%R\n",
        "# Install missing packages\n",
        "new.packages <- packages[!(pkg %in% installed.packages(lib='drive/My Drive/R/')[,\"Package\"])]\n",
        "if(length(new.packages)) install.packages(new.packages, lib='drive/My Drive/R/')"
      ],
      "metadata": {
        "id": "hFBoIdRGWaLJ"
      },
      "execution_count": null,
      "outputs": []
    },
    {
      "cell_type": "code",
      "source": [
        "%%R\n",
        "\n",
        "# set library path\n",
        ".libPaths('drive/My Drive/R')\n",
        "# Verify installation\n",
        "cat(\"Installed packages:\\n\")\n",
        "print(sapply(packages, requireNamespace, quietly = TRUE))"
      ],
      "metadata": {
        "colab": {
          "base_uri": "https://localhost:8080/"
        },
        "id": "DJklIME_X8YX",
        "outputId": "5c7b676c-b19b-4315-b232-20cdcdfd91c6"
      },
      "execution_count": null,
      "outputs": [
        {
          "output_type": "stream",
          "name": "stdout",
          "text": [
            "Installed packages:\n"
          ]
        },
        {
          "output_type": "stream",
          "name": "stderr",
          "text": [
            "WARNING:rpy2.rinterface_lib.callbacks:R[write to console]: Registered S3 methods overwritten by 'dlookr':\n",
            "  method          from  \n",
            "  plot.transform  scales\n",
            "  print.transform scales\n",
            "\n",
            "WARNING:rpy2.rinterface_lib.callbacks:R[write to console]: Registered S3 methods overwritten by 'ggpp':\n",
            "  method                  from   \n",
            "  heightDetails.titleGrob ggplot2\n",
            "  widthDetails.titleGrob  ggplot2\n",
            "\n",
            "WARNING:rpy2.rinterface_lib.callbacks:R[write to console]: Registered S3 method overwritten by 'gamlss':\n",
            "  method   from\n",
            "  print.ri bit \n",
            "\n"
          ]
        },
        {
          "output_type": "stream",
          "name": "stdout",
          "text": [
            "      tidyverse            plyr    DataExplorer          dlookr         rstatix \n",
            "           TRUE            TRUE            TRUE            TRUE            TRUE \n",
            "      flextable       gtsummary     performance          report          sjPlot \n",
            "          FALSE            TRUE            TRUE            TRUE            TRUE \n",
            "        margins marginaleffects       ggeffects         ggpmisc       patchwork \n",
            "           TRUE            TRUE            TRUE            TRUE            TRUE \n",
            "        metrica            MASS             gam          gamair            mgcv \n",
            "          FALSE            TRUE            TRUE            TRUE            TRUE \n",
            "         gamlss          gratia         agridat \n",
            "           TRUE            TRUE            TRUE \n"
          ]
        }
      ]
    },
    {
      "cell_type": "markdown",
      "source": [
        "### Load packages"
      ],
      "metadata": {
        "id": "lAgpv5BZWdY0"
      }
    },
    {
      "cell_type": "code",
      "source": [
        "%%R\n",
        "# set library path\n",
        ".libPaths('drive/My Drive/R')\n",
        "# Load packages with suppressed messages\n",
        "invisible(lapply(packages, function(pkg) {\n",
        "  suppressPackageStartupMessages(library(pkg, character.only = TRUE))\n",
        "}))\n",
        "# Check loaded packages\n",
        "cat(\"Successfully loaded packages:\\n\")\n",
        "print(search()[grepl(\"package:\", search())])# Check loaded packages"
      ],
      "metadata": {
        "colab": {
          "base_uri": "https://localhost:8080/"
        },
        "id": "hsaSWKQLWdhW",
        "outputId": "31f283ad-859f-4017-e7db-b4f981c9ef4f"
      },
      "execution_count": null,
      "outputs": [
        {
          "output_type": "stream",
          "name": "stdout",
          "text": [
            "Successfully loaded packages:\n",
            " [1] \"package:agridat\"         \"package:gratia\"         \n",
            " [3] \"package:gamlss\"          \"package:parallel\"       \n",
            " [5] \"package:gamlss.dist\"     \"package:gamlss.data\"    \n",
            " [7] \"package:mgcv\"            \"package:nlme\"           \n",
            " [9] \"package:gamair\"          \"package:gam\"            \n",
            "[11] \"package:foreach\"         \"package:splines\"        \n",
            "[13] \"package:MASS\"            \"package:patchwork\"      \n",
            "[15] \"package:ggpmisc\"         \"package:ggpp\"           \n",
            "[17] \"package:ggeffects\"       \"package:marginaleffects\"\n",
            "[19] \"package:margins\"         \"package:sjPlot\"         \n",
            "[21] \"package:report\"          \"package:performance\"    \n",
            "[23] \"package:gtsummary\"       \"package:rstatix\"        \n",
            "[25] \"package:dlookr\"          \"package:DataExplorer\"   \n",
            "[27] \"package:plyr\"            \"package:lubridate\"      \n",
            "[29] \"package:forcats\"         \"package:stringr\"        \n",
            "[31] \"package:dplyr\"           \"package:purrr\"          \n",
            "[33] \"package:readr\"           \"package:tidyr\"          \n",
            "[35] \"package:tibble\"          \"package:ggplot2\"        \n",
            "[37] \"package:tidyverse\"       \"package:tools\"          \n",
            "[39] \"package:stats\"           \"package:graphics\"       \n",
            "[41] \"package:grDevices\"       \"package:utils\"          \n",
            "[43] \"package:datasets\"        \"package:methods\"        \n",
            "[45] \"package:base\"           \n"
          ]
        }
      ]
    },
    {
      "cell_type": "markdown",
      "source": [
        "### Data\n",
        "\n",
        "In this exercise, we utilize a [dataset](https://raw.githubusercontent.com/m-clark/generalized-additive-models/master/data/pisasci2006.csv) that includes average science scores by country from the Programme for International Student Assessment ([PISA](https://www.oecd.org/en/about/programmes/pisa.html)) conducted in 2006. Alongside these scores, we also consider [data](https://hdr.undp.org/data-center) from the United Nations, which includes Gross National Income (GNI) per capita (adjusted for Purchasing Power Parity in 2005 dollars), the Educational Index, the Health Index, and the Human Development Index (HDI).\n",
        "\n",
        "The education component is measured by the mean years of schooling for adults aged 25 years and older and the expected years of schooling for children of school entry Income. The health index is determined by life expectancy at birth, while the wealth component is based on GNI per capita. The HDI establishes minimum and maximum values for each dimension, with the resulting scores indicating each country's position relative to these endpoints, expressed as a value between 0 and 1.\n",
        "\n",
        "The key variables are as follows (variable abbreviations in bold):\n",
        "\n",
        "-   **Overall** Science Score (average score for 15 year olds)\n",
        "\n",
        "-   **Interest** in science\n",
        "\n",
        "-   Identifying scientific **Issues**\n",
        "\n",
        "-   **Explaining** phenomena scientifically\n",
        "\n",
        "-   **Support** for scientific inquiry\n",
        "\n",
        "-   **Income** Index\n",
        "\n",
        "-   **Health** Index\n",
        "\n",
        "-   **Edu**cation Index\n",
        "\n",
        "-   **H**uman **D**evelopment **I**ndex (composed of the Income index, Health Index, and Education Index)\n",
        "\n",
        "We will use `read_csv()` function of {readr} package to import data as a **tidy** data."
      ],
      "metadata": {
        "id": "eJDx8gtvbY4z"
      }
    },
    {
      "cell_type": "code",
      "source": [
        "%%R\n",
        "# Load data\n",
        "mf<-readr::read_csv(\"https://raw.githubusercontent.com/m-clark/generalized-additive-models/master/data/pisasci2006.csv\")\n",
        "# Remove missing values\n",
        "mf<-na.omit(mf)\n",
        "str(mf)"
      ],
      "metadata": {
        "colab": {
          "base_uri": "https://localhost:8080/"
        },
        "id": "LSoUNA1YbZyH",
        "outputId": "41f9bdad-1426-48d5-9a32-d64354201c31"
      },
      "execution_count": null,
      "outputs": [
        {
          "output_type": "stream",
          "name": "stdout",
          "text": [
            "Rows: 65 Columns: 11\n",
            "── Column specification ────────────────────────────────────────────────────────\n",
            "Delimiter: \",\"\n",
            "chr  (1): Country\n",
            "dbl (10): Overall, Issues, Explain, Evidence, Interest, Support, Income, Hea...\n",
            "\n",
            "ℹ Use `spec()` to retrieve the full column specification for this data.\n",
            "ℹ Specify the column types or set `show_col_types = FALSE` to quiet this message.\n",
            "tibble [52 × 11] (S3: tbl_df/tbl/data.frame)\n",
            " $ Country : chr [1:52] \"Argentina\" \"Australia\" \"Austria\" \"Belgium\" ...\n",
            " $ Overall : num [1:52] 391 527 511 510 390 434 534 438 542 388 ...\n",
            " $ Issues  : num [1:52] 395 535 505 515 398 427 532 444 528 402 ...\n",
            " $ Explain : num [1:52] 386 520 516 503 390 444 531 432 549 379 ...\n",
            " $ Evidence: num [1:52] 385 531 505 516 378 417 542 440 542 383 ...\n",
            " $ Interest: num [1:52] 567 465 507 503 592 523 469 591 536 644 ...\n",
            " $ Support : num [1:52] 506 487 515 492 519 527 501 564 529 546 ...\n",
            " $ Income  : num [1:52] 0.678 0.826 0.835 0.831 0.637 0.663 0.84 0.673 0.853 0.616 ...\n",
            " $ Health  : num [1:52] 0.868 0.965 0.944 0.935 0.818 0.829 0.951 0.923 0.966 0.829 ...\n",
            " $ Edu     : num [1:52] 0.786 0.978 0.824 0.868 0.646 0.778 0.902 0.764 0.763 0.624 ...\n",
            " $ HDI     : num [1:52] 0.773 0.92 0.866 0.877 0.695 0.753 0.897 0.78 0.857 0.683 ...\n",
            " - attr(*, \"na.action\")= 'omit' Named int [1:13] 1 5 29 30 33 36 42 43 50 51 ...\n",
            "  ..- attr(*, \"names\")= chr [1:13] \"1\" \"5\" \"29\" \"30\" ...\n"
          ]
        }
      ]
    },
    {
      "cell_type": "markdown",
      "source": [
        "#### Data Visualization\n",
        "\n",
        "We can use {ggplot2} to create a scatterplot matrix to visualize the relationships between the variables in the dataset."
      ],
      "metadata": {
        "id": "HgmtQG1ibg5Z"
      }
    },
    {
      "cell_type": "code",
      "source": [
        "%%R -w 800 -h 800 -u px\n",
        "# create a data frame with the variables of interest\n",
        "df<-mf |>\n",
        "  dplyr::select(Country, Overall,Income, Health,  Edu, Interest)\n",
        "# create a scatter plot  qith smooth line\n",
        "p1<-ggplot(df, aes(x = Overall, y = Income)) +\n",
        "  geom_point() +\n",
        "  geom_smooth(method = \"gam\", formula = y ~ splines::bs(x, 4), se = TRUE)\n",
        "p2<-ggplot(df, aes(x = Overall, y = Health)) +\n",
        "  geom_point() +\n",
        "  geom_smooth(method = \"gam\", formula = y ~ splines::bs(x, 4), se = TRUE)\n",
        "p3<-ggplot(df, aes(x = Overall, y = Edu)) +\n",
        "  geom_point() +\n",
        "  geom_smooth(method = \"gam\", formula = y ~ splines::bs(x, 4), se = TRUE)\n",
        "p4<-ggplot(df, aes(x = Overall, y = Interest)) +\n",
        "  geom_point() +\n",
        "  geom_smooth(method = \"gam\", formula = y ~ splines::bs(x, 4), se = TRUE)\n",
        "\n",
        "(p1+p2)/(p3+p4)"
      ],
      "metadata": {
        "colab": {
          "base_uri": "https://localhost:8080/",
          "height": 817
        },
        "id": "8YKfLfaQbiHl",
        "outputId": "b000810a-2c5f-4e6d-a683-512873d857dd"
      },
      "execution_count": null,
      "outputs": [
        {
          "output_type": "display_data",
          "data": {
            "image/png": "[encoded data removed]"
          },
          "metadata": {}
        }
      ]
    },
    {
      "cell_type": "markdown",
      "source": [
        "The scatterplot matrix shows relationships between the four important variables in the `Overall` dataset. For example, the scatterplot of `Overall` vs. all for prectors reveals a non-linear relationship, suggesting a GAM might be appropriate."
      ],
      "metadata": {
        "id": "RsE3j3xwbxF6"
      }
    },
    {
      "cell_type": "markdown",
      "source": [
        "#### Split Data\n",
        "\n",
        "We will split the data into training and testing sets, The training set will contain 70% of the data, and the testing set will contain the remaining 30%."
      ],
      "metadata": {
        "id": "ja920rQKbzVI"
      }
    },
    {
      "cell_type": "code",
      "source": [
        "%%R\n",
        "# set the seed to make your partition reproducible\n",
        "seeds = 11076\n",
        "## 75% of the sample size\n",
        "smp_size <- floor(0.75 * nrow(mf))\n",
        "## set the seed to make your partition reproducible\n",
        "set.seed(123)\n",
        "train_ind <- sample(seq_len(nrow(mf)), size = smp_size)\n",
        "train <- mf[train_ind, ]\n",
        "test <- mf[-train_ind, ]"
      ],
      "metadata": {
        "id": "Vk3LZUfhb0Gm"
      },
      "execution_count": null,
      "outputs": []
    },
    {
      "cell_type": "markdown",
      "source": [
        "### Fit Univariate GAM Model\n",
        "\n",
        "In this example, we’ll fit a univariate GAM model using the {mgcv}, {gam}, and {gamlss} packages to model the relationship between the `Overall` variable and a single predictor `Income` of `Overall` data set. We’ll use a cubic regression spline with 3 degrees of freedom. We will use `s()` is the shorthand for fitting smoothing splines in gam() function."
      ],
      "metadata": {
        "id": "-DcaEjaWb5_k"
      }
    },
    {
      "cell_type": "markdown",
      "source": [
        "#### GAM with {mgcv} Package\n",
        "\n",
        "{gam} function is used to fit a GAM model in the {mgcv} package. The `s()` function is used to specify a smooth term for the predictor `Income` using a cubic regression spline. `family()` object specifying the distribution and link to use in fitting etc."
      ],
      "metadata": {
        "id": "Q4qeb0Klb6uK"
      }
    },
    {
      "cell_type": "code",
      "source": [
        "%%R\n",
        "# Fit a GAM model using the mgcv package\n",
        "mgcv.uni <- mgcv::gam(Overall ~ s(Income), data = train,\n",
        "              family= gaussian(link = \"identity\"))\n",
        "summary(mgcv.uni)"
      ],
      "metadata": {
        "colab": {
          "base_uri": "https://localhost:8080/"
        },
        "id": "MaaB7p7gb9Hh",
        "outputId": "d0d43d9d-cb31-4f8d-f62b-8af9e391f6ec"
      },
      "execution_count": null,
      "outputs": [
        {
          "output_type": "stream",
          "name": "stdout",
          "text": [
            "\n",
            "Family: gaussian \n",
            "Link function: identity \n",
            "\n",
            "Formula:\n",
            "Overall ~ s(Income)\n",
            "\n",
            "Parametric coefficients:\n",
            "            Estimate Std. Error t value Pr(>|t|)    \n",
            "(Intercept)  472.718      3.953   119.6   <2e-16 ***\n",
            "---\n",
            "Signif. codes:  0 ‘***’ 0.001 ‘**’ 0.01 ‘*’ 0.05 ‘.’ 0.1 ‘ ’ 1\n",
            "\n",
            "Approximate significance of smooth terms:\n",
            "            edf Ref.df     F p-value    \n",
            "s(Income) 7.585   8.49 20.47  <2e-16 ***\n",
            "---\n",
            "Signif. codes:  0 ‘***’ 0.001 ‘**’ 0.01 ‘*’ 0.05 ‘.’ 0.1 ‘ ’ 1\n",
            "\n",
            "R-sq.(adj) =  0.817   Deviance explained = 85.3%\n",
            "GCV = 781.25  Scale est. = 609.28    n = 39\n"
          ]
        }
      ]
    },
    {
      "cell_type": "markdown",
      "source": [
        "summary(mgcv.uni) provides a summary of the fitted GAM model, including the estimated coefficients, degrees of freedom, and significance levels for each term. The `edf` column shows the effective degrees of freedom for the smooth term, which is a measure of the complexity of the fitted curve. The `p-value` column indicates the significance of the smooth term in the model. In this case, the smooth term for `Income` is highly significant (p \\< 0.001), suggesting that `Income` has a non-linear effect on `Overall`. The `R-sq.(adj)` value represents the adjusted R-squared value of the model, which is a measure of how well the model fits the data. In this case, the adjusted R-squared value is 0.817, indicating that the model explains 81% of the variance in `Overall`.\n",
        "\n",
        "The {gratia} package is designed to work with {mgcv} and offers enhanced visualization and diagnostic tools."
      ],
      "metadata": {
        "id": "2KqUEDGWcDoA"
      }
    },
    {
      "cell_type": "code",
      "source": [
        "%%R\n",
        "# Enhanced visualization\n",
        "gratia::draw(mgcv.uni) # Generates nicely formatted plots"
      ],
      "metadata": {
        "colab": {
          "base_uri": "https://localhost:8080/",
          "height": 497
        },
        "id": "kceMDt2JcHwi",
        "outputId": "9375aa40-6459-41cf-c00b-652fdebc4291"
      },
      "execution_count": null,
      "outputs": [
        {
          "output_type": "display_data",
          "data": {
            "image/png": "[encoded data removed]"
          },
          "metadata": {}
        }
      ]
    },
    {
      "cell_type": "markdown",
      "source": [
        "#### GAM with {gam} Package\n",
        "\n",
        "The {gam} package provides a simpler interface for fitting GAMs. The `gam()` function is used to fit a GAM model with a cubic regression spline for the predictor `Income`. The `s()` function is used to specify a smooth term for the predictor `Income` using a cubic regression spline."
      ],
      "metadata": {
        "id": "ecL7DU_qcG05"
      }
    },
    {
      "cell_type": "code",
      "source": [
        "%%R\n",
        "##  you have to detach {mgcv} before using {gam} package\n",
        "detach(\"package:mgcv\", unload=F)\n",
        "# Fit a GAM to model the relationship between mpg and hp\n",
        "gam.uni <- gam::gam(Overall ~ s(Income), data = train,\n",
        "                      family= gaussian(link = \"identity\"))\n",
        "# Summary of the GAM\n",
        "summary(gam.uni)"
      ],
      "metadata": {
        "colab": {
          "base_uri": "https://localhost:8080/"
        },
        "id": "3GGlQskxcOIz",
        "outputId": "4330cc4f-80d6-4201-867e-67c6d8cf5ba4"
      },
      "execution_count": null,
      "outputs": [
        {
          "output_type": "stream",
          "name": "stdout",
          "text": [
            "\n",
            "Call: gam::gam(formula = Overall ~ s(Income), family = gaussian(link = \"identity\"), \n",
            "    data = train)\n",
            "Deviance Residuals:\n",
            "    Min      1Q  Median      3Q     Max \n",
            "-94.230 -12.954   3.988  17.807  50.374 \n",
            "\n",
            "(Dispersion Parameter for gaussian family taken to be 845.4251)\n",
            "\n",
            "    Null Deviance: 126385.9 on 38 degrees of freedom\n",
            "Residual Deviance: 28744.31 on 33.9998 degrees of freedom\n",
            "AIC: 380.1803 \n",
            "\n",
            "Number of Local Scoring Iterations: NA \n",
            "\n",
            "Anova for Parametric Effects\n",
            "          Df Sum Sq Mean Sq F value   Pr(>F)    \n",
            "s(Income)  1  60339   60339  71.371 7.26e-10 ***\n",
            "Residuals 34  28744     845                     \n",
            "---\n",
            "Signif. codes:  0 ‘***’ 0.001 ‘**’ 0.01 ‘*’ 0.05 ‘.’ 0.1 ‘ ’ 1\n",
            "\n",
            "Anova for Nonparametric Effects\n",
            "            Npar Df Npar F    Pr(F)    \n",
            "(Intercept)                            \n",
            "s(Income)         3 14.707 2.63e-06 ***\n",
            "---\n",
            "Signif. codes:  0 ‘***’ 0.001 ‘**’ 0.01 ‘*’ 0.05 ‘.’ 0.1 ‘ ’ 1\n"
          ]
        }
      ]
    },
    {
      "cell_type": "markdown",
      "source": [
        "Above output provides a summary of the fitted GAM model, including the estimated coefficients, degrees of freedom, and significance levels for each term. Anova for parametric effect shows the sum of squares contributed by each predictor. The `p-value` column indicates the significance of the smooth term in the model. In this case, the smooth term for `Income` is highly significant (p \\< 0.001), suggesting that `Income` has a non-linear effect on `Overall`."
      ],
      "metadata": {
        "id": "wrp_aaJacUcN"
      }
    },
    {
      "cell_type": "code",
      "source": [
        "%%R\n",
        "#Plotting the Model\n",
        "plot(gam.uni,se = TRUE)\n",
        "#se stands for standard error Band"
      ],
      "metadata": {
        "colab": {
          "base_uri": "https://localhost:8080/",
          "height": 497
        },
        "id": "VEiycFRPcVcn",
        "outputId": "6e57f0a7-9232-4b82-cf60-daa5565d8b01"
      },
      "execution_count": null,
      "outputs": [
        {
          "output_type": "display_data",
          "data": {
            "image/png": "[encoded data removed]"
          },
          "metadata": {}
        }
      ]
    },
    {
      "cell_type": "markdown",
      "source": [
        "#### GAM with {gamlss} Package\n",
        "\n",
        "`gamlss()` function fits a Generalized Additive Model for Location, Scale, and Shape (GAMLSS) using the {gamlss} package. This function allows for modeling the entire distribution of the response variable, not just the mean. The distribution for the response variable in the GAMLSS can be selected from a very general `family` of distributions including highly skew and/or kurtotic continuous and discrete distributions, and the parameters of the distribution can be modeled as functions of covariates.\n",
        "\n",
        "We will use `pb()` is the shorthand for fitting smoothing function."
      ],
      "metadata": {
        "id": "lWeVocKtcbbe"
      }
    },
    {
      "cell_type": "code",
      "source": [
        "%%R\n",
        "gamlss.uni <- gamlss(Overall ~ pb(Income), data = train, # pb() is a smooth function\n",
        "                       family =NO) # NO() defines the normal distribution\n",
        "summary(gamlss.uni)"
      ],
      "metadata": {
        "colab": {
          "base_uri": "https://localhost:8080/"
        },
        "id": "8zKLiCGiccSa",
        "outputId": "55f47c9e-4e77-4430-e05d-9dfd7da179d0"
      },
      "execution_count": null,
      "outputs": [
        {
          "output_type": "stream",
          "name": "stdout",
          "text": [
            "GAMLSS-RS iteration 1: Global Deviance = 356.9995 \n",
            "GAMLSS-RS iteration 2: Global Deviance = 356.9665 \n",
            "GAMLSS-RS iteration 3: Global Deviance = 356.9672 \n",
            "******************************************************************\n",
            "Family:  c(\"NO\", \"Normal\") \n",
            "\n",
            "Call:  gamlss(formula = Overall ~ pb(Income), family = NO,      data = train) \n",
            "\n",
            "\n",
            "Fitting method: RS() \n",
            "\n",
            "------------------------------------------------------------------\n",
            "Mu link function:  identity\n",
            "Mu Coefficients:\n",
            "            Estimate Std. Error t value Pr(>|t|)    \n",
            "(Intercept)   216.19      24.84   8.703 7.77e-10 ***\n",
            "pb(Income)    342.32      32.77  10.447 1.09e-11 ***\n",
            "---\n",
            "Signif. codes:  0 ‘***’ 0.001 ‘**’ 0.01 ‘*’ 0.05 ‘.’ 0.1 ‘ ’ 1\n",
            "\n",
            "------------------------------------------------------------------\n",
            "Sigma link function:  log\n",
            "Sigma Coefficients:\n",
            "            Estimate Std. Error t value Pr(>|t|)    \n",
            "(Intercept)   3.1576     0.1132   27.89   <2e-16 ***\n",
            "---\n",
            "Signif. codes:  0 ‘***’ 0.001 ‘**’ 0.01 ‘*’ 0.05 ‘.’ 0.1 ‘ ’ 1\n",
            "\n",
            "------------------------------------------------------------------\n",
            "NOTE: Additive smoothing terms exist in the formulas: \n",
            " i) Std. Error for smoothers are for the linear effect only. \n",
            "ii) Std. Error for the linear terms maybe are not accurate. \n",
            "------------------------------------------------------------------\n",
            "No. of observations in the fit:  39 \n",
            "Degrees of Freedom for the fit:  7.927218\n",
            "      Residual Deg. of Freedom:  31.07278 \n",
            "                      at cycle:  3 \n",
            " \n",
            "Global Deviance:     356.9672 \n",
            "            AIC:     372.8216 \n",
            "            SBC:     386.009 \n",
            "******************************************************************\n"
          ]
        }
      ]
    },
    {
      "cell_type": "code",
      "source": [
        "%%R -w 800 -h 800 -u px\n",
        "#Plotting the Model\n",
        "plot(gamlss.uni,se = TRUE)"
      ],
      "metadata": {
        "colab": {
          "base_uri": "https://localhost:8080/",
          "height": 956
        },
        "id": "GsuLxpVbciPz",
        "outputId": "b1513008-5311-47fe-9ec8-9d366127473d"
      },
      "execution_count": null,
      "outputs": [
        {
          "output_type": "stream",
          "name": "stdout",
          "text": [
            "******************************************************************\n",
            "\t      Summary of the Quantile Residuals\n",
            "                           mean   =  -2.629949e-14 \n",
            "                       variance   =  1.026316 \n",
            "               coef. of skewness  =  -0.4128001 \n",
            "               coef. of kurtosis  =  3.077463 \n",
            "Filliben correlation coefficient  =  0.9841758 \n",
            "******************************************************************\n"
          ]
        },
        {
          "output_type": "display_data",
          "data": {
            "image/png": "[encoded data removed]"
          },
          "metadata": {}
        }
      ]
    },
    {
      "cell_type": "markdown",
      "source": [
        "### Fit Multivarite GAM Model\n",
        "\n",
        "To fit a multivariate Generalized Additive Model (GAM) using the Overall dataset from the {ISLR} package in R, we can approach this using the {mgcv}, {gam}, and {gamlss} packages. We will model the relationship between the `Overall` variable and multiple predictors: `Income`, `Edu`, `Health` and `Interest`. We will use cubic regression splines for each predictor."
      ],
      "metadata": {
        "id": "wTUWTuy4c6FE"
      }
    },
    {
      "cell_type": "markdown",
      "source": [
        "#### GAM with {mgcv} Package\n",
        "\n",
        "{gam} function is used to fit a GAM model in the {mgcv} package. The `s()` function is used to specify a smooth term for the predictors `Income`, `Edu`, `Health` and `interest` using a cubic regression spline. `k` is the number of knots to use in the basis expansion. The default is 10. The `k` argument controls the smoothness of the fitted curve. We use k=15 for each predictor."
      ],
      "metadata": {
        "id": "iw9Cxwk1c83H"
      }
    },
    {
      "cell_type": "code",
      "source": [
        "%%R\n",
        "library(mgcv)\n",
        "# Fit a GAM model using the mgcv package\n",
        "mgcv.multi <- mgcv::gam(Overall ~ s(Income, k=15) + s(Edu, k=15) + s(Health, k=15) + s(Interest, k=15), data = train,\n",
        "              family= gaussian(link = \"identity\"))\n",
        "summary(mgcv.multi)"
      ],
      "metadata": {
        "colab": {
          "base_uri": "https://localhost:8080/"
        },
        "id": "kg-aI3gOc9vX",
        "outputId": "940add92-d2ce-4c4a-bd52-f726115a096a"
      },
      "execution_count": null,
      "outputs": [
        {
          "output_type": "stream",
          "name": "stderr",
          "text": [
            "WARNING:rpy2.rinterface_lib.callbacks:R[write to console]: This is mgcv 1.9-3. For overview type 'help(\"mgcv-package\")'.\n",
            "\n",
            "WARNING:rpy2.rinterface_lib.callbacks:R[write to console]: \n",
            "Attaching package: ‘mgcv’\n",
            "\n",
            "\n",
            "WARNING:rpy2.rinterface_lib.callbacks:R[write to console]: The following object is masked from ‘package:gamlss’:\n",
            "\n",
            "    lp\n",
            "\n",
            "\n",
            "WARNING:rpy2.rinterface_lib.callbacks:R[write to console]: The following objects are masked from ‘package:gam’:\n",
            "\n",
            "    gam, gam.control, gam.fit, s\n",
            "\n",
            "\n"
          ]
        },
        {
          "output_type": "stream",
          "name": "stdout",
          "text": [
            "\n",
            "Family: gaussian \n",
            "Link function: identity \n",
            "\n",
            "Formula:\n",
            "Overall ~ s(Income, k = 15) + s(Edu, k = 15) + s(Health, k = 15) + \n",
            "    s(Interest, k = 15)\n",
            "\n",
            "Parametric coefficients:\n",
            "            Estimate Std. Error t value Pr(>|t|)    \n",
            "(Intercept)  472.718      2.582   183.1   <2e-16 ***\n",
            "---\n",
            "Signif. codes:  0 ‘***’ 0.001 ‘**’ 0.01 ‘*’ 0.05 ‘.’ 0.1 ‘ ’ 1\n",
            "\n",
            "Approximate significance of smooth terms:\n",
            "              edf Ref.df     F p-value   \n",
            "s(Income)   5.894  6.915 4.799 0.00356 **\n",
            "s(Edu)      7.022  8.216 1.914 0.11761   \n",
            "s(Health)   2.099  2.519 0.618 0.54811   \n",
            "s(Interest) 5.131  6.081 2.276 0.08152 . \n",
            "---\n",
            "Signif. codes:  0 ‘***’ 0.001 ‘**’ 0.01 ‘*’ 0.05 ‘.’ 0.1 ‘ ’ 1\n",
            "\n",
            "R-sq.(adj) =  0.922   Deviance explained = 96.3%\n",
            "GCV = 567.73  Scale est. = 259.92    n = 39\n"
          ]
        }
      ]
    },
    {
      "cell_type": "markdown",
      "source": [
        "Above output provides a summary of the fitted GAM model, including the estimated coefficients, degrees of freedom, and significance levels for each term. The effective degrees of freedom (`edf`) column shows the effective degrees of freedom for the smooth term, which is a measure of the complexity of the fitted curve. The `p-value` column indicates the significance of the smooth term in the model. In this case, the smooth term for `Income` and `Interest` are highly significant (p \\< 0.001), suggesting that both these predictors have a non-linear effect on `Overall`. The `R-sq.(adj)` value represents the adjusted R-squared value of the model, which is a measure of how well the model fits the data. In this case, the adjusted R-squared value is 0.92, indicating that the model explains 92% of the variance in `Overall`. The `GCV`, or generalized cross validation score can be taken as an estimate of the mean square prediction error based on a leave-one-out cross validation estimation process.\n",
        "\n",
        "The {gratia} package is designed to work with {mgcv} and offers enhanced visualization and diagnostic tools."
      ],
      "metadata": {
        "id": "mKnRfVP-dDNI"
      }
    },
    {
      "cell_type": "code",
      "source": [
        "%%R -w 800 -h 800 -u px\n",
        "# Enhanced visualization\n",
        "gratia::draw(mgcv.multi) # Generates nicely formatted plots"
      ],
      "metadata": {
        "colab": {
          "base_uri": "https://localhost:8080/",
          "height": 817
        },
        "id": "dWkSOoGOdHFj",
        "outputId": "8057bae8-2ac3-4ef3-a067-6f9355741499"
      },
      "execution_count": null,
      "outputs": [
        {
          "output_type": "display_data",
          "data": {
            "image/png": "[encoded data removed]"
          },
          "metadata": {}
        }
      ]
    },
    {
      "cell_type": "markdown",
      "source": [
        "Plot revels the fitted GAM model, including the smooth terms for `Income`, `Edu`, `Health`, and `Interest`. The solid lines represent the estimated relationships between each predictor and `Overall`, while the shaded areas represent the 95% confidence intervals around the estimates. The plot shows non-linear relationships between each predictor and `Overall`, with different patterns for each predictor. The smooth terms capture these non-linear relationships effectively.\n"
      ],
      "metadata": {
        "id": "mDlu2KDjdQOr"
      }
    },
    {
      "cell_type": "markdown",
      "source": [
        "#### GAM with {gam} Package\n",
        "\n",
        "The {gam} package provides a simpler interface for fitting GAMs. The `gam()` function is used to fit a GAM model with a cubic regression spline for the predictor `Income`, `Edu`, `Health` and `Interest`. `df` is the degree of freedom for the spline."
      ],
      "metadata": {
        "id": "N2BObqd5dTAx"
      }
    },
    {
      "cell_type": "code",
      "source": [
        "%%R\n",
        "##  you have to detach {mgcv} before using {gam} package\n",
        "detach(\"package:mgcv\", unload=TRUE)\n",
        "# Fit a GAM to model the relationship between mpg and hp\n",
        "gam.multi <- gam::gam(Overall ~ s(Income, df=15) + s(Edu, df=15) + s(Health, df=15) + s(Interest, df=15),  data = train,\n",
        "                      family= gaussian(link = \"identity\"))\n",
        "# Summary of the GAM\n",
        "summary(gam.multi)"
      ],
      "metadata": {
        "colab": {
          "base_uri": "https://localhost:8080/"
        },
        "id": "uOV2KId-dUMl",
        "outputId": "448e75b5-a540-4ae5-8371-9215b9956fa8"
      },
      "execution_count": null,
      "outputs": [
        {
          "output_type": "stream",
          "name": "stdout",
          "text": [
            "\n",
            "Call: gam::gam(formula = Overall ~ s(Income, df = 15) + s(Edu, df = 15) + \n",
            "    s(Health, df = 15) + s(Interest, df = 15), family = gaussian(link = \"identity\"), \n",
            "    data = train)\n",
            "\n",
            "(Dispersion Parameter for gaussian family taken to be Inf)\n",
            "\n",
            "    Null Deviance: 126385.9 on 38 degrees of freedom\n",
            "Residual Deviance: 349.6113 on -21.9994 degrees of freedom\n",
            "AIC: 320.2131 \n",
            "\n",
            "Number of Local Scoring Iterations: NA \n",
            "\n",
            "Anova for Parametric Effects\n",
            "                          Df Sum Sq Mean Sq   F value Pr(>F)\n",
            "s(Income, df = 15)     1.000  53505   53505 -3366.803    NaN\n",
            "s(Edu, df = 15)        1.000   2017    2017  -126.917    NaN\n",
            "s(Health, df = 15)     1.000   1562    1562   -98.317    NaN\n",
            "s(Interest, df = 15)   1.000   4731    4731  -297.707    NaN\n",
            "Residuals            -21.999    350     -16                 \n",
            "\n",
            "Anova for Nonparametric Effects\n",
            "                     Npar Df Npar F Pr(F)\n",
            "(Intercept)                              \n",
            "s(Income, df = 15)        14      0      \n",
            "s(Edu, df = 15)           14      0      \n",
            "s(Health, df = 15)        14      0      \n",
            "s(Interest, df = 15)      14      0      \n"
          ]
        }
      ]
    },
    {
      "cell_type": "code",
      "source": [
        "%%R -w 800 -h 800 -u px\n",
        "#Plotting the Model\n",
        "par(mfrow=c(2,2)) #to partition the Plotting Window\n",
        "plot(gam.multi)"
      ],
      "metadata": {
        "colab": {
          "base_uri": "https://localhost:8080/",
          "height": 817
        },
        "id": "lZkf4CAXdegC",
        "outputId": "360af2fb-90c5-432f-8854-2c8f51dd6a27"
      },
      "execution_count": null,
      "outputs": [
        {
          "output_type": "display_data",
          "data": {
            "image/png": "[encoded data removed]"
          },
          "metadata": {}
        }
      ]
    },
    {
      "cell_type": "markdown",
      "source": [
        "#### GAM with {gamlss} Package\n",
        "\n",
        "`gamlss()` function fits a Generalized Additive Model for Location, Scale, and Shape (GAMLSS) using the {gamlss} package. This function allows for modeling the entire distribution of the response variable, not just the mean. The distribution for the response variable in the GAMLSS can be selected from a very general `family` of distributions including highly skew and/or kurtotic continuous and discrete distributions, and the parameters of the distribution can be modeled as functions of covariates.\n",
        "\n",
        "We will use `pb()` is the shorthand for fitting smoothing function."
      ],
      "metadata": {
        "id": "enrCrjbidbl5"
      }
    },
    {
      "cell_type": "code",
      "source": [
        "%%R\n",
        "gamlss.multi <- gamlss(Overall ~  pb(Income) + pb(Edu) + pb(Health) + pb(Interest), data = train, # pb() is a smooth function\n",
        "                       family =NO) # NO() defines the normal distribution\n",
        "summary(gamlss.multi)"
      ],
      "metadata": {
        "colab": {
          "base_uri": "https://localhost:8080/"
        },
        "id": "nu76cEOkdpAN",
        "outputId": "9c7734c3-0203-4879-a99f-aa80254b90ce"
      },
      "execution_count": null,
      "outputs": [
        {
          "output_type": "stream",
          "name": "stdout",
          "text": [
            "GAMLSS-RS iteration 1: Global Deviance = 350.7869 \n",
            "GAMLSS-RS iteration 2: Global Deviance = 350.7779 \n",
            "GAMLSS-RS iteration 3: Global Deviance = 350.777 \n",
            "******************************************************************\n",
            "Family:  c(\"NO\", \"Normal\") \n",
            "\n",
            "Call:  gamlss(formula = Overall ~ pb(Income) + pb(Edu) + pb(Health) +  \n",
            "    pb(Interest), family = NO, data = train) \n",
            "\n",
            "Fitting method: RS() \n",
            "\n",
            "------------------------------------------------------------------\n",
            "Mu link function:  identity\n",
            "Mu Coefficients:\n",
            "             Estimate Std. Error t value Pr(>|t|)   \n",
            "(Intercept)  446.4572   140.8361   3.170  0.00359 **\n",
            "pb(Income)   165.0185    68.3501   2.414  0.02234 * \n",
            "pb(Edu)      102.7553    61.0555   1.683  0.10317   \n",
            "pb(Health)    17.9481   112.8893   0.159  0.87478   \n",
            "pb(Interest)  -0.3709     0.1446  -2.564  0.01581 * \n",
            "---\n",
            "Signif. codes:  0 ‘***’ 0.001 ‘**’ 0.01 ‘*’ 0.05 ‘.’ 0.1 ‘ ’ 1\n",
            "\n",
            "------------------------------------------------------------------\n",
            "Sigma link function:  log\n",
            "Sigma Coefficients:\n",
            "            Estimate Std. Error t value Pr(>|t|)    \n",
            "(Intercept)   3.0782     0.1132   27.19   <2e-16 ***\n",
            "---\n",
            "Signif. codes:  0 ‘***’ 0.001 ‘**’ 0.01 ‘*’ 0.05 ‘.’ 0.1 ‘ ’ 1\n",
            "\n",
            "------------------------------------------------------------------\n",
            "NOTE: Additive smoothing terms exist in the formulas: \n",
            " i) Std. Error for smoothers are for the linear effect only. \n",
            "ii) Std. Error for the linear terms maybe are not accurate. \n",
            "------------------------------------------------------------------\n",
            "No. of observations in the fit:  39 \n",
            "Degrees of Freedom for the fit:  10.13701\n",
            "      Residual Deg. of Freedom:  28.86299 \n",
            "                      at cycle:  3 \n",
            " \n",
            "Global Deviance:     350.777 \n",
            "            AIC:     371.051 \n",
            "            SBC:     387.9146 \n",
            "******************************************************************\n"
          ]
        }
      ]
    },
    {
      "cell_type": "code",
      "source": [
        "%%R -w 800 -h 800 -u px\n",
        "#Plotting the Model\n",
        "plot(gamlss.multi,se = TRUE)"
      ],
      "metadata": {
        "colab": {
          "base_uri": "https://localhost:8080/",
          "height": 956
        },
        "id": "4KCQyzgjdxT8",
        "outputId": "c2483e89-b95c-4c7c-c4cc-c6a615bf469f"
      },
      "execution_count": null,
      "outputs": [
        {
          "output_type": "stream",
          "name": "stdout",
          "text": [
            "******************************************************************\n",
            "\t      Summary of the Quantile Residuals\n",
            "                           mean   =  -2.120698e-12 \n",
            "                       variance   =  1.026316 \n",
            "               coef. of skewness  =  0.2784542 \n",
            "               coef. of kurtosis  =  3.311798 \n",
            "Filliben correlation coefficient  =  0.986157 \n",
            "******************************************************************\n"
          ]
        },
        {
          "output_type": "display_data",
          "data": {
            "image/png": "[encoded data removed]"
          },
          "metadata": {}
        }
      ]
    },
    {
      "cell_type": "markdown",
      "source": [
        "From above output Global Deviance is 350.7, AIC is 371, BIC is 387.91 and Sigma Coefficients of estimates 3.70 (p\\<0.001). The `p-value` column indicates the significance of the smooth term in the model. In this case, the smooth term for `Income` and `Interest` are significant (p \\< 0.05), suggesting that both these predictors have a non-linear effect on `Overall`."
      ],
      "metadata": {
        "id": "S8r6AsUtdt5y"
      }
    },
    {
      "cell_type": "markdown",
      "source": [
        "\n",
        "### GAM with Binnary Data - Logistic  Regression\n",
        "\n",
        "In this example, we will fit a Poisson regression model to the `johnson.blight` dataset of {agridat} packages. A data frame with 25 observations on Potato blight due to weather in Prosser, Washington."
      ],
      "metadata": {
        "id": "D8oUHZ-Pfvb8"
      }
    },
    {
      "cell_type": "code",
      "source": [
        "%%R\n",
        "binary.data<-agridat::johnson.blight\n",
        "glimpse(binary.data)"
      ],
      "metadata": {
        "colab": {
          "base_uri": "https://localhost:8080/"
        },
        "id": "FF8KdcxAfyvO",
        "outputId": "1b30608a-4df8-43bb-e3a8-9101bc395d78"
      },
      "execution_count": null,
      "outputs": [
        {
          "output_type": "stream",
          "name": "stdout",
          "text": [
            "Rows: 25\n",
            "Columns: 6\n",
            "$ year     <int> 1970, 1971, 1972, 1973, 1974, 1975, 1976, 1977, 1978, 1979, 1…\n",
            "$ area     <int> 0, 0, 0, 0, 50, 810, 120, 40, 0, 0, 0, 0, 10100, 14150, 150, …\n",
            "$ blight   <int> 0, 0, 0, 0, 1, 1, 1, 1, 0, 0, 0, 0, 1, 1, 1, 0, 0, 0, 0, 0, 1…\n",
            "$ rain.am  <int> 8, 9, 9, 6, 16, 10, 12, 10, 11, 8, 13, 8, 15, 9, 17, 5, 8, 5,…\n",
            "$ rain.ja  <int> 1, 4, 6, 1, 6, 7, 12, 4, 10, 9, 1, 3, 6, 12, 1, 4, 3, 5, 3, 8…\n",
            "$ precip.m <dbl> 5.84, 6.86, 47.29, 8.89, 7.37, 5.08, 3.30, 11.44, 14.99, 4.06…\n"
          ]
        }
      ]
    },
    {
      "cell_type": "code",
      "source": [
        "%%R\n",
        "# Define indicator for blight in previous year\n",
        "binary.data$blight.prev[2:25] <-binary.data$blight[1:24]\n",
        "binary.data$blight.prev[1] <- 0 # Need this to match the results of Johnson\n",
        "binary.data$blight.prev <- factor(binary.data$blight.prev)\n",
        "binary.data$blight <- factor(binary.data$blight)\n",
        "glimpse(binary.data)"
      ],
      "metadata": {
        "colab": {
          "base_uri": "https://localhost:8080/"
        },
        "id": "AOR1UK8lf3jF",
        "outputId": "91c848b7-f121-4c13-8ebc-562373d4352f"
      },
      "execution_count": null,
      "outputs": [
        {
          "output_type": "stream",
          "name": "stdout",
          "text": [
            "Rows: 25\n",
            "Columns: 7\n",
            "$ year        <int> 1970, 1971, 1972, 1973, 1974, 1975, 1976, 1977, 1978, 1979…\n",
            "$ area        <int> 0, 0, 0, 0, 50, 810, 120, 40, 0, 0, 0, 0, 10100, 14150, 15…\n",
            "$ blight      <fct> 0, 0, 0, 0, 1, 1, 1, 1, 0, 0, 0, 0, 1, 1, 1, 0, 0, 0, 0, 0…\n",
            "$ rain.am     <int> 8, 9, 9, 6, 16, 10, 12, 10, 11, 8, 13, 8, 15, 9, 17, 5, 8,…\n",
            "$ rain.ja     <int> 1, 4, 6, 1, 6, 7, 12, 4, 10, 9, 1, 3, 6, 12, 1, 4, 3, 5, 3…\n",
            "$ precip.m    <dbl> 5.84, 6.86, 47.29, 8.89, 7.37, 5.08, 3.30, 11.44, 14.99, 4…\n",
            "$ blight.prev <fct> 0, 0, 0, 0, 0, 1, 1, 1, 1, 0, 0, 0, 0, 1, 1, 1, 0, 0, 0, 0…\n"
          ]
        }
      ]
    },
    {
      "cell_type": "code",
      "source": [
        "%%R\n",
        " logit.glm = glm(blight ~ blight.prev+rain.am + rain.ja + precip.m, data=binary.data, family=binomial)\n",
        " logit.gam = gam(blight ~ blight.prev+s(rain.am, rain.ja,k=5) + s(precip.m), data=binary.data, family=binomial)"
      ],
      "metadata": {
        "id": "RTvH9DVSf7j5"
      },
      "execution_count": null,
      "outputs": []
    },
    {
      "cell_type": "code",
      "source": [
        "%%R\n",
        "anova(logit.glm, logit.gam, test=\"Chi\")"
      ],
      "metadata": {
        "colab": {
          "base_uri": "https://localhost:8080/"
        },
        "id": "w0RVVQkIgB2R",
        "outputId": "18fd730d-8ad4-43e9-e3b0-4b44fcfc626e"
      },
      "execution_count": null,
      "outputs": [
        {
          "output_type": "stream",
          "name": "stdout",
          "text": [
            "Analysis of Deviance Table\n",
            "\n",
            "Model 1: blight ~ blight.prev + rain.am + rain.ja + precip.m\n",
            "Model 2: blight ~ blight.prev + s(rain.am, rain.ja, k = 5) + s(precip.m)\n",
            "  Resid. Df Resid. Dev         Df   Deviance  Pr(>Chi)    \n",
            "1        20     13.126                                    \n",
            "2        20     13.126 1.8751e-05 2.1894e-05 0.0001017 ***\n",
            "---\n",
            "Signif. codes:  0 ‘***’ 0.001 ‘**’ 0.01 ‘*’ 0.05 ‘.’ 0.1 ‘ ’ 1\n"
          ]
        }
      ]
    },
    {
      "cell_type": "markdown",
      "source": [
        "Despite the identical AIC values, the fact that the anova test is significant suggests we should use the more complex model, i.e. the GAM."
      ],
      "metadata": {
        "id": "MbmezLy5gGQ9"
      }
    },
    {
      "cell_type": "markdown",
      "source": [
        "### GAM with Count Data - Poisson Regression\n",
        "\n",
        "In this example, we will fit a Poisson regression model to the `mead.cauliflower` dataset of {agridat} packages. The datasethis dataset presents leaves for cauliflower plants at different times."
      ],
      "metadata": {
        "id": "vyv52xhhgJ_8"
      }
    },
    {
      "cell_type": "code",
      "source": [
        "%%R\n",
        "count.data<-agridat::mead.cauliflower\n",
        "glimpse(count.data)"
      ],
      "metadata": {
        "colab": {
          "base_uri": "https://localhost:8080/"
        },
        "id": "lMtWq2WAgQh_",
        "outputId": "da5c0b35-306c-44d1-9ab5-5a9978c7621a"
      },
      "execution_count": null,
      "outputs": [
        {
          "output_type": "stream",
          "name": "stdout",
          "text": [
            "Rows: 14\n",
            "Columns: 3\n",
            "$ year    <int> 1956, 1956, 1956, 1956, 1956, 1956, 1956, 1957, 1957, 1957, 19…\n",
            "$ degdays <dbl> 4.5, 7.5, 9.5, 10.5, 13.0, 16.0, 18.0, 4.5, 8.0, 9.5, 11.5, 13…\n",
            "$ leaves  <int> 38, 62, 72, 87, 102, 135, 150, 60, 85, 91, 120, 126, 133, 152\n"
          ]
        }
      ]
    },
    {
      "cell_type": "code",
      "source": [
        "%%R\n",
        "# Fit a Poisson regression model using the glm() function\n",
        "pois.glm = glm(leaves ~ year + degdays, data=count.data, family=c(\"poisson\"))\n",
        "# Fit a Poisson regression model using the gam() function\n",
        "pois.gam = gam(leaves ~ year + s(degdays), data=count.data, family=c(\"poisson\"))"
      ],
      "metadata": {
        "id": "F-pRCaGegcNe"
      },
      "execution_count": null,
      "outputs": []
    },
    {
      "cell_type": "code",
      "source": [
        "%%R\n",
        "anova(pois.glm, pois.gam)"
      ],
      "metadata": {
        "colab": {
          "base_uri": "https://localhost:8080/"
        },
        "id": "Uyobzzbmgghw",
        "outputId": "d6b52b79-0349-4017-b128-87c9a49d620f"
      },
      "execution_count": null,
      "outputs": [
        {
          "output_type": "stream",
          "name": "stdout",
          "text": [
            "Analysis of Deviance Table\n",
            "\n",
            "Model 1: leaves ~ year + degdays\n",
            "Model 2: leaves ~ year + s(degdays)\n",
            "  Resid. Df Resid. Dev      Df Deviance Pr(>Chi)\n",
            "1    11.000     6.0593                          \n",
            "2    10.569     4.8970 0.43106   1.1623   0.1131\n"
          ]
        }
      ]
    },
    {
      "cell_type": "markdown",
      "source": [
        "The `anova()` function compares the two models using the likelihood ratio test. The output shows the difference in deviance between the two models, the degrees of freedom, and the p-value for the test. In this case, the p-value is more than 0.05, indicating that the glm model is a better fit than the gam model."
      ],
      "metadata": {
        "id": "e0q2_8AQgmvJ"
      }
    },
    {
      "cell_type": "markdown",
      "source": [
        "### GAM model for Overdispersion in Count Data\n",
        "\n",
        "For overdispersed data we have the option to use both the quasipoisson and the negative binomial distributions:"
      ],
      "metadata": {
        "id": "HepIsu-tgpvX"
      }
    },
    {
      "cell_type": "code",
      "source": [
        "%%R\n",
        "# Fit a Quasipoisson regression model using the gam() function\n",
        "pois.gam.quasi = gam(leaves ~ year + s(degdays), data=count.data, family=c(\"quasipoisson\"))\n",
        "summary(pois.gam.quasi)"
      ],
      "metadata": {
        "colab": {
          "base_uri": "https://localhost:8080/"
        },
        "id": "M-rtpNlzgsL-",
        "outputId": "0b191a0b-2c2a-40f7-f5fd-522a89058ef9"
      },
      "execution_count": null,
      "outputs": [
        {
          "output_type": "stream",
          "name": "stdout",
          "text": [
            "\n",
            "Family: quasipoisson \n",
            "Link function: log \n",
            "\n",
            "Formula:\n",
            "leaves ~ year + s(degdays)\n",
            "\n",
            "Parametric coefficients:\n",
            "              Estimate Std. Error t value Pr(>|t|)    \n",
            "(Intercept) -400.60775   69.08499  -5.799 0.000168 ***\n",
            "year           0.20708    0.03531   5.865 0.000153 ***\n",
            "---\n",
            "Signif. codes:  0 ‘***’ 0.001 ‘**’ 0.01 ‘*’ 0.05 ‘.’ 0.1 ‘ ’ 1\n",
            "\n",
            "Approximate significance of smooth terms:\n",
            "             edf Ref.df     F p-value    \n",
            "s(degdays) 1.916   2.39 151.7  <2e-16 ***\n",
            "---\n",
            "Signif. codes:  0 ‘***’ 0.001 ‘**’ 0.01 ‘*’ 0.05 ‘.’ 0.1 ‘ ’ 1\n",
            "\n",
            "R-sq.(adj) =   0.97   Deviance explained = 97.6%\n",
            "GCV = 0.58311  Scale est. = 0.4138    n = 14\n"
          ]
        }
      ]
    },
    {
      "cell_type": "code",
      "source": [
        "%%R\n",
        "# Fit a Negative Binomial regression model using the gam() function\n",
        "pois.gam.nb = gam(leaves ~ year + s(degdays), data=count.data, family=nb())\n",
        "summary(pois.gam.nb)"
      ],
      "metadata": {
        "colab": {
          "base_uri": "https://localhost:8080/"
        },
        "id": "i1VMkYZBgwnB",
        "outputId": "041601bc-fa45-46c7-a390-0161abc2223c"
      },
      "execution_count": null,
      "outputs": [
        {
          "output_type": "stream",
          "name": "stdout",
          "text": [
            "\n",
            "Family: Negative Binomial(12809990.186) \n",
            "Link function: log \n",
            "\n",
            "Formula:\n",
            "leaves ~ year + s(degdays)\n",
            "\n",
            "Parametric coefficients:\n",
            "              Estimate Std. Error z value Pr(>|z|)    \n",
            "(Intercept) -407.46534  106.35067  -3.831 0.000127 ***\n",
            "year           0.21059    0.05436   3.874 0.000107 ***\n",
            "---\n",
            "Signif. codes:  0 ‘***’ 0.001 ‘**’ 0.01 ‘*’ 0.05 ‘.’ 0.1 ‘ ’ 1\n",
            "\n",
            "Approximate significance of smooth terms:\n",
            "             edf Ref.df Chi.sq p-value    \n",
            "s(degdays) 1.509  1.856  155.8  <2e-16 ***\n",
            "---\n",
            "Signif. codes:  0 ‘***’ 0.001 ‘**’ 0.01 ‘*’ 0.05 ‘.’ 0.1 ‘ ’ 1\n",
            "\n",
            "R-sq.(adj) =  0.967   Deviance explained = 97.3%\n",
            "-REML = 54.995  Scale est. = 1         n = 14\n"
          ]
        }
      ]
    },
    {
      "cell_type": "markdown",
      "source": [
        "## Summary and Conclusions\n",
        "\n",
        "In this tutorial, we covered the basics of Generalized Additive Models (GAMs) in R, focusing on their ability to model complex, nonlinear relationships in data. We started with an overview of how GAMs extend traditional linear models by incorporating flexible, smooth effects for each predictor, making them suitable for nonlinear data. We then explored various R packages, including `mgcv` and `gam`, which provide user-friendly functions for fitting and evaluating GAMs, visualizing fitted effects, and assessing model diagnostics. To further understand GAM mechanics, we built a GAM from scratch without using external packages. This hands-on experience demonstrated key principles such as using basis functions for smoothing and the model's additive nature, allowing us to isolate and effectively combine predictors' effects. We fit GAM with count and binary data, showcasing their versatility in handling different types of data."
      ],
      "metadata": {
        "id": "DCI0dXetOhA0"
      }
    },
    {
      "cell_type": "markdown",
      "source": [
        "## Resources\n",
        "\n",
        "1.  [Generalized Additive Models-An introduction with R](https://www.taylorfrancis.com/books/mono/10.1201/9781315370279/generalized-additive-models-simon-wood)\n",
        "\n",
        "2.  [Generalized Additive Models Using R](https://www.geeksforgeeks.org/generalized-additive-models-using-r/)\n",
        "\n",
        "3.  [Chapter 4 Introduction to GAMs](https://r.qcbs.ca/workshop08/book-en/introduction-to-gams.html)\n",
        "\n",
        "4.  [Generalized Additive Models](https://www.r-bloggers.com/2017/07/generalized-additive-models/)\n",
        "\n",
        "5.  [GAM: The Predictive Modeling Silver Bullet](https://multithreaded.stitchfix.com/blog/2015/07/30/gam/)\n",
        "\n",
        "6.  [Generalized Additive Models](https://m-clark.github.io/generalized-additive-models/)\n",
        "\n",
        "7. [Generalized Additive Models and Mixed-Effects in Agriculture](https://r-video-tutorial.blogspot.com/2017/07/generalized-addictive-models-and-mixed.html)\n"
      ],
      "metadata": {
        "id": "7xBtQkhvOlwc"
      }
    }
  ],
  "metadata": {
    "kernelspec": {
      "display_name": "Python 3",
      "name": "python3"
    },
    "language_info": {
      "name": "python"
    },
    "colab": {
      "provenance": [],
      "toc_visible": true,
      "include_colab_link": true
    }
  },
  "nbformat": 4,
  "nbformat_minor": 0
}