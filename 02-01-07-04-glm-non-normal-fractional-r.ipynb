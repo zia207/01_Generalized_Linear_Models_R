{
  "cells": [
    {
      "cell_type": "markdown",
      "metadata": {
        "id": "view-in-github",
        "colab_type": "text"
      },
      "source": [
        "<a href=\"https://colab.research.google.com/github/zia207/r-colab/blob/main/NoteBook/Advance_Regression/01_Generalized_Linear_Models/02-01-07-04-glm-non-normal-fractional-r.ipynb\" target=\"_parent\"><img src=\"https://colab.research.google.com/assets/colab-badge.svg\" alt=\"Open In Colab\"/></a>"
      ]
    },
    {
      "cell_type": "markdown",
      "metadata": {
        "id": "UyJtyAP_-CNJ"
      },
      "source": [
        "![alt text](http://drive.google.com/uc?export=view&id=1bLQ3nhDbZrCCqy_WCxxckOne2lgVvn3l)"
      ]
    },
    {
      "cell_type": "markdown",
      "metadata": {
        "id": "au6nzIZ1MUQ9"
      },
      "source": [
        "# 7.4 Fractional Regression Models {.unnumbered}\n",
        "\n",
        "\n",
        "Fractional regression models are essential for analyzing continuous proportion data — like rates, shares, or percentages — that fall between 0 and 1. Unlike OLS or logistic regression, they properly handle boundary values (0s and 1s) and heteroskedasticity. In this tutorial, you’ll learn the theory, build a model from scratch in R, and fit it the right way using `glm` — empowering you to model real-world fractional outcomes with confidence."
      ]
    },
    {
      "cell_type": "markdown",
      "metadata": {
        "id": "neuAm4Qy9ZYX"
      },
      "source": [
        "## Overview\n",
        "\n",
        "**Fractional Regression Models**, also known as `fractional logit` or `proportion` regression models, are designed for dependent variables that are bounded between 0 and 1, such as proportions, fractions, or probabilities (e.g., market shares, test scores as percentages, or budget allocations). These models ensure predictions lie within the [0,1] interval and account for the bounded nature of the data.  Examples:\n",
        "\n",
        "- Proportion of time spent on a task\n",
        "- Fraction of budget allocated to R&D\n",
        "- Market share of a product\n",
        "- Student test scores (as %)\n",
        "- Proportion of land under cultivation\n",
        "\n",
        "Traditional linear regression is inappropriate here because:\n",
        "\n",
        "- Predictions can fall outside [0,1]\n",
        "- Heteroskedasticity: variance depends on mean\n",
        "- Non-normal errors\n",
        "\n",
        "Logistic regression (for binary outcomes) is also inappropriate — fractional data are **continuous proportions**, not binary.\n",
        "\n",
        "\n",
        "Fractional regression typically uses a **quasi-likelihood approach** based on the **logit link** and **beta distribution variance function**.\n",
        "\n",
        "Let $y_i \\in [0,1]$ be the fractional response for observation $i$.\n",
        "\n",
        "We model the **conditional mean** $\\mu_i = E(y_i | x_i)$ via a link function $g(\\cdot)$:\n",
        "\n",
        "$$\n",
        "g(\\mu_i) = x_i^\\top \\beta\n",
        "$$\n",
        "\n",
        "Commonly, $g(\\cdot)$ is the **logit link**:\n",
        "\n",
        "$$\n",
        "\\text{logit}(\\mu_i) = \\ln\\left(\\frac{\\mu_i}{1 - \\mu_i}\\right) = x_i^\\top \\beta\n",
        "$$\n",
        "\n",
        "\n",
        "Instead of assuming constant variance (like OLS), we assume the variance follows the **beta distribution** structure:\n",
        "\n",
        "$$\n",
        "\\text{Var}(y_i) = \\phi \\cdot \\mu_i (1 - \\mu_i)\n",
        "$$\n",
        "\n",
        "where $\\phi$ is a dispersion parameter (estimated from data).\n",
        "\n",
        "> This is a **quasi-likelihood** model — we don’t assume a full probability distribution, only mean and variance functions.\n",
        "\n"
      ]
    },
    {
      "cell_type": "markdown",
      "source": [
        "\n",
        "### Key Properties\n",
        "\n",
        "- Handles responses in [0,1]\n",
        "- Uses link functions (logit, probit, cloglog, etc.)\n",
        "- Accounts for heteroskedasticity via variance function\n",
        "- Estimates interpretable as in logistic regression (log-odds)\n",
        "- Can include 0s and 1s (unlike beta regression, which requires (0,1))"
      ],
      "metadata": {
        "id": "QBtJ1BnBAnUI"
      }
    },
    {
      "cell_type": "markdown",
      "source": [
        "### Difference  Between **Beta Regression Models** and **Fractional Regression Models**\n",
        "\n",
        "The difference between **Beta Regression Models** and **Fractional Regression Models** lies in their assumptions, modeling approach, and handling of the response variable, though both are used for dependent variables bounded between 0 and 1 (e.g., proportions or fractions). Below is a concise comparison:\n",
        "\n",
        " **Underlying Distribution**\n",
        "\n",
        "- `Beta Regression`:\n",
        "  - Assumes the response variable $y$ (where $0 < y < 1$ follows a **beta distribution**, parameterized by mean $\\mu$ and precision $\\phi$.\n",
        "  - The beta distribution is flexible, accommodating various shapes (e.g., U-shaped, J-shaped) for proportions.\n",
        "  - Typically excludes exact 0 or 1 values unless modified (e.g., using zero-inflated or one-inflated beta regression).\n",
        "  - Variance is modeled as $\\text{Var}(y) = \\mu(1 - \\mu) / (1 + \\phi)$, where $\\phi$ controls dispersion.\n",
        "\n",
        "- `Fractional Regression`:\n",
        "  - Does not assume a specific distributional form like the beta distribution.\n",
        "  - Uses a **quasi-likelihood** approach, focusing on the mean and variance structure: \\( E(y | \\mathbf{x}) = \\mu \\) and \\( \\text{Var}(y) = \\mu(1 - \\mu) \\).\n",
        "  - Can handle exact 0 and 1 values naturally, as it does not require a strict distributional assumption.\n",
        "  - Often employs a logistic link to ensure predictions lie in (0,1), but other link functions (e.g., probit) are possible.\n",
        "\n",
        " **Handling Boundary Values (0 and 1)**\n",
        "\n",
        "- `Beta Regression`:\n",
        "  - Standard beta regression assumes $0 < y < 1$, so exact 0 or 1 values require special handling (e.g., transformation or inflated models).\n",
        "  - Packages like `betareg` in R offer extensions (e.g., `betareg(..., type = \"BC\")`) for zero- or one-inflated data.\n",
        "  \n",
        "-`Fractional Regression`:\n",
        "  - Naturally accommodates $y \\in [0,1]$, including boundary values, without requiring distributional adjustments.\n",
        "  - Robust for datasets with many 0s or 1s (e.g., market shares where some observations are 0% or 100%).\n",
        "\n",
        "**Estimation Approach**\n",
        "\n",
        "- `Beta Regression`:\n",
        "  - Uses **maximum likelihood estimation** (MLE) based on the beta distribution.\n",
        "  - Estimates both regression coefficients ($\\boldsymbol{\\beta}$) for the mean and a precision parameter ($\\phi$).\n",
        "  - More computationally intensive due to the full distributional assumption.\n",
        "  \n",
        "-  `Fractional Regression`:\n",
        "  - Uses **quasi-likelihood estimation**, which only requires specifying the mean ($\\mu = g^{-1}(\\mathbf{x}^\\top \\boldsymbol{\\beta})$) and variance ($\\mu(1 - \\mu)$).\n",
        "  - Simpler and more robust to misspecification of the data distribution.\n",
        "\n",
        "**Model Flexibility**\n",
        "\n",
        "- `Beta Regression`:\n",
        "  - More flexible in modeling the shape of the distribution (via the precision parameter \\( \\phi \\)).\n",
        "  - Suitable when the data exhibit complex patterns (e.g., skewed or bimodal proportions).\n",
        "  - Can model heteroscedasticity explicitly through a separate regression for \\( \\phi \\).\n",
        "\n",
        "- `Fractional Regression`:\n",
        "  - Less flexible in terms of distributional shape, as it focuses on the mean-variance relationship.\n",
        "  - Assumes a fixed variance function ($\\mu(1 - \\mu)$), which may not capture all data patterns.\n",
        "\n",
        "**Applications**\n",
        "\n",
        "- `Beta Regression`:\n",
        "  - Ideal for continuous proportions with variability well-described by the beta distribution (e.g., test scores, chemical yields).\n",
        "  - Preferred when modeling dispersion or when the data are strictly between 0 and 1.\n",
        "  \n",
        "- `Fractional Regression`\n",
        "  - Suited for proportions that include 0 or 1 (e.g., market shares, budget allocations).\n",
        "  - Used in econometrics and social sciences where boundary values are common and distributional assumptions are less critical."
      ],
      "metadata": {
        "id": "KfFYZA54AoZE"
      }
    },
    {
      "cell_type": "markdown",
      "metadata": {
        "id": "BQDQMxpJ9z_f"
      },
      "source": [
        "## Install rpy2"
      ]
    },
    {
      "cell_type": "code",
      "execution_count": 1,
      "metadata": {
        "colab": {
          "base_uri": "https://localhost:8080/"
        },
        "id": "5j-UYffx9N09",
        "outputId": "5a4e055a-214f-431e-f328-84943e240d80"
      },
      "outputs": [
        {
          "output_type": "stream",
          "name": "stdout",
          "text": [
            "Found existing installation: rpy2 3.5.17\n",
            "Uninstalling rpy2-3.5.17:\n",
            "  Successfully uninstalled rpy2-3.5.17\n",
            "Collecting rpy2==3.5.1\n",
            "  Downloading rpy2-3.5.1.tar.gz (201 kB)\n",
            "\u001b[2K     \u001b[90m━━━━━━━━━━━━━━━━━━━━━━━━━━━━━━━━━━━━━━━\u001b[0m \u001b[32m201.7/201.7 kB\u001b[0m \u001b[31m6.5 MB/s\u001b[0m eta \u001b[36m0:00:00\u001b[0m\n",
            "\u001b[?25h  Preparing metadata (setup.py) ... \u001b[?25l\u001b[?25hdone\n",
            "Requirement already satisfied: cffi>=1.10.0 in /usr/local/lib/python3.12/dist-packages (from rpy2==3.5.1) (2.0.0)\n",
            "Requirement already satisfied: jinja2 in /usr/local/lib/python3.12/dist-packages (from rpy2==3.5.1) (3.1.6)\n",
            "Requirement already satisfied: pytz in /usr/local/lib/python3.12/dist-packages (from rpy2==3.5.1) (2025.2)\n",
            "Requirement already satisfied: tzlocal in /usr/local/lib/python3.12/dist-packages (from rpy2==3.5.1) (5.3.1)\n",
            "Requirement already satisfied: pycparser in /usr/local/lib/python3.12/dist-packages (from cffi>=1.10.0->rpy2==3.5.1) (2.23)\n",
            "Requirement already satisfied: MarkupSafe>=2.0 in /usr/local/lib/python3.12/dist-packages (from jinja2->rpy2==3.5.1) (3.0.2)\n",
            "Building wheels for collected packages: rpy2\n",
            "  Building wheel for rpy2 (setup.py) ... \u001b[?25l\u001b[?25hdone\n",
            "  Created wheel for rpy2: filename=rpy2-3.5.1-cp312-cp312-linux_x86_64.whl size=316572 sha256=82beee814b7f380eedddf6c09041289f53a85878966faaf97bf7b46845839f16\n",
            "  Stored in directory: /root/.cache/pip/wheels/00/26/d5/d5e8c0b039915e785be870270e4a9263e5058168a03513d8cc\n",
            "Successfully built rpy2\n",
            "Installing collected packages: rpy2\n",
            "Successfully installed rpy2-3.5.1\n"
          ]
        }
      ],
      "source": [
        "!pip uninstall rpy2 -y\n",
        "!pip install rpy2==3.5.1\n",
        "%load_ext rpy2.ipython"
      ]
    },
    {
      "cell_type": "markdown",
      "metadata": {
        "id": "xg8ZRtsE-Aot"
      },
      "source": [
        "## Mount Google Drive"
      ]
    },
    {
      "cell_type": "code",
      "execution_count": 2,
      "metadata": {
        "colab": {
          "base_uri": "https://localhost:8080/"
        },
        "id": "sLu24QrR-M9L",
        "outputId": "fead3050-7307-41ff-b034-372896146500"
      },
      "outputs": [
        {
          "output_type": "stream",
          "name": "stdout",
          "text": [
            "Mounted at /content/drive\n"
          ]
        }
      ],
      "source": [
        "from google.colab import drive\n",
        "drive.mount('/content/drive')"
      ]
    },
    {
      "cell_type": "markdown",
      "metadata": {
        "id": "401-6LXXVDTD"
      },
      "source": [
        "##  Fit Fractional Regression from Scratch in R (No Packages)\n",
        "\n",
        "We’ll implement **Iteratively Reweighted Least Squares (IRLS)** to fit a fractional logit model."
      ]
    },
    {
      "cell_type": "markdown",
      "metadata": {
        "id": "ziWoodGNVPlp"
      },
      "source": [
        "###  Simulate Data\n"
      ]
    },
    {
      "cell_type": "code",
      "execution_count": 3,
      "metadata": {
        "colab": {
          "base_uri": "https://localhost:8080/"
        },
        "id": "F4BsYSzyVRdq",
        "outputId": "18d85f19-f792-4fee-cee3-fcc7f0ab89ab"
      },
      "outputs": [
        {
          "output_type": "stream",
          "name": "stdout",
          "text": [
            "          y          x1          x2\n",
            "1 0.2813101 -0.56047565 -0.45275453\n",
            "2 1.0000000 -0.23017749  0.18773387\n",
            "3 0.9203128  1.55870831 -0.67963037\n",
            "4 0.0000000  0.07050839  0.70686048\n",
            "5 0.0000000  0.12928774  0.69547832\n",
            "6 0.9733129  1.71506499 -0.04422637\n"
          ]
        }
      ],
      "source": [
        "%%R\n",
        "# Recreate data if needed\n",
        "set.seed(123)\n",
        "n <- 500\n",
        "x1 <- rnorm(n)\n",
        "x2 <- runif(n, -1, 1)\n",
        "X_mat <- cbind(1, x1, x2)\n",
        "beta_true <- c(-0.5, 1.2, -0.8)\n",
        "eta <- X_mat %*% beta_true\n",
        "mu <- 1 / (1 + exp(-eta))\n",
        "phi <- 5\n",
        "alpha <- mu * phi\n",
        "beta_param <- (1 - mu) * phi\n",
        "y <- rbeta(n, shape1 = alpha, shape2 = beta_param)\n",
        "y[sample(1:n, 20)] <- 0\n",
        "y[sample(1:n, 20)] <- 1\n",
        "data_scratch <- data.frame(y = y, x1 = x1, x2 = x2)\n",
        "\n",
        "data_scratch <- data.frame(y = y, x1 = x1, x2 = x2)\n",
        "head(data_scratch)"
      ]
    },
    {
      "cell_type": "markdown",
      "metadata": {
        "id": "2iBMrwwIVgsV"
      },
      "source": [
        "### Implement IRLS Algorithm"
      ]
    },
    {
      "cell_type": "code",
      "execution_count": 5,
      "metadata": {
        "id": "2SvUUezFVlUb"
      },
      "outputs": [],
      "source": [
        "%%R\n",
        "fractional_logit_irls <- function(y, X, maxit = 100, tol = 1e-8) {\n",
        "\n",
        "  n <- length(y)\n",
        "  p <- ncol(X)\n",
        "\n",
        "  # Ensure X is matrix\n",
        "  X <- as.matrix(X)\n",
        "\n",
        "  # Initialize coefficients\n",
        "  beta <- rep(0, p)\n",
        "\n",
        "  # Add small jitter to avoid 0/1 (for logit)\n",
        "  y_adj <- ifelse(y == 0, 0.001, ifelse(y == 1, 0.999, y))\n",
        "\n",
        "  for (iter in 1:maxit) {\n",
        "    eta <- X %*% beta\n",
        "    mu <- inv_logit(eta)\n",
        "\n",
        "    # Variance function: mu*(1-mu)\n",
        "    v <- mu * (1 - mu)\n",
        "    weights <- 1 / v  # Diagonal of weight matrix\n",
        "\n",
        "    # Derivative of mu w.r.t. eta\n",
        "    dmu_deta <- dinv_logit(eta)\n",
        "\n",
        "    # Working response (adjusted dependent variable)\n",
        "    z <- eta + (y_adj - mu) / dmu_deta\n",
        "\n",
        "    # Weight X by multiplying each row by its weight\n",
        "    X_weighted <- sweep(X, MARGIN = 1, STATS = weights, FUN = \"*\")\n",
        "    XtWX <- t(X) %*% X_weighted\n",
        "\n",
        "    # Weight z\n",
        "    z_weighted <- weights * z\n",
        "    XtWz <- t(X) %*% z_weighted\n",
        "\n",
        "    # Solve for new beta\n",
        "    beta_new <- solve(XtWX, XtWz)\n",
        "\n",
        "    # Check convergence\n",
        "    if (sqrt(sum((beta_new - beta)^2)) < tol) {\n",
        "      cat(\"Converged in\", iter, \"iterations.\\n\")\n",
        "      beta <- beta_new\n",
        "      break\n",
        "    }\n",
        "\n",
        "    beta <- beta_new\n",
        "  }\n",
        "\n",
        "  # Recompute final fit\n",
        "  eta <- X %*% beta\n",
        "  mu <- inv_logit(eta)\n",
        "\n",
        "  # Estimate dispersion phi\n",
        "  pearson_resid_sq <- (y - mu)^2 / (mu * (1 - mu))\n",
        "  phi_hat <- sum(pearson_resid_sq) / (n - p)\n",
        "\n",
        "  # Compute standard errors\n",
        "  final_weights <- 1 / (mu * (1 - mu))\n",
        "  X_weighted_final <- sweep(X, 1, final_weights, \"*\")\n",
        "  XtWX_final <- t(X) %*% X_weighted_final\n",
        "  cov_mat <- solve(XtWX_final) * phi_hat\n",
        "  se <- sqrt(diag(cov_mat))\n",
        "\n",
        "  # Inference\n",
        "  z_scores <- beta / se\n",
        "  p_values <- 2 * pnorm(-abs(z_scores))\n",
        "\n",
        "  list(\n",
        "    coefficients = beta,\n",
        "    se = se,\n",
        "    z_values = z_scores,\n",
        "    p_values = p_values,\n",
        "    fitted.values = mu,\n",
        "    residuals = y - mu,\n",
        "    phi = phi_hat,\n",
        "    iterations = iter\n",
        "  )\n",
        "}"
      ]
    },
    {
      "cell_type": "markdown",
      "metadata": {
        "id": "zjxeorVCVpm8"
      },
      "source": [
        "### Fit the Model"
      ]
    },
    {
      "cell_type": "code",
      "execution_count": 7,
      "metadata": {
        "colab": {
          "base_uri": "https://localhost:8080/"
        },
        "id": "oUv-_ANcVqV9",
        "outputId": "1395a6f2-66a1-4865-964f-b72cd554da5c"
      },
      "outputs": [
        {
          "output_type": "stream",
          "name": "stdout",
          "text": [
            "Converged in 20 iterations.\n",
            "=== Fractional Logit Model (From Scratch) ===\n",
            "   Coefficient   Std_Error   Z_value       P_value\n",
            "    -0.3574694 0.009990005 -35.78271 2.051904e-280\n",
            "x1   1.1424553 0.007825807 145.98562  0.000000e+00\n",
            "x2  -0.5752209 0.017655561 -32.58015 7.836170e-233\n",
            "\n",
            "Estimated dispersion (phi): 0.2973597 \n"
          ]
        }
      ],
      "source": [
        "%%R\n",
        "# Fit model\n",
        "model_scratch <- fractional_logit_irls(data_scratch$y, X_mat)\n",
        "\n",
        "# Display results\n",
        "cat(\"=== Fractional Logit Model (From Scratch) ===\\n\")\n",
        "print(data.frame(\n",
        "  Coefficient = model_scratch$coefficients,\n",
        "  Std_Error = model_scratch$se,\n",
        "  Z_value = model_scratch$z_values,\n",
        "  P_value = model_scratch$p_values\n",
        "))\n",
        "\n",
        "cat(\"\\nEstimated dispersion (phi):\", model_scratch$phi, \"\\n\")"
      ]
    },
    {
      "cell_type": "markdown",
      "metadata": {
        "id": "DFMss3idVv-2"
      },
      "source": [
        "### Validate Model (Basic Diagnostics)"
      ]
    },
    {
      "cell_type": "code",
      "execution_count": 10,
      "metadata": {
        "colab": {
          "base_uri": "https://localhost:8080/",
          "height": 977
        },
        "id": "Z3Pfvh3-Vw-R",
        "outputId": "c08ef2eb-e6c0-4cb2-ab83-cf124b3034bc"
      },
      "outputs": [
        {
          "output_type": "display_data",
          "data": {
            "image/png": "[encoded data removed]"
          },
          "metadata": {}
        },
        {
          "output_type": "display_data",
          "data": {
            "image/png": "[encoded data removed]"
          },
          "metadata": {}
        }
      ],
      "source": [
        "%%R\n",
        "# Residuals vs Fitted\n",
        "plot(model_scratch$fitted.values, model_scratch$residuals,\n",
        "     xlab = \"Fitted Values\", ylab = \"Residuals\",\n",
        "     main = \"Residuals vs Fitted (Scratch Model)\")\n",
        "abline(h = 0, col = \"red\", lty = 2)\n",
        "\n",
        "# Q-Q plot (approximate, since not normal)\n",
        "qqnorm(model_scratch$residuals, main = \"Q-Q Plot of Residuals\")\n",
        "qqline(model_scratch$residuals, col = \"red\")"
      ]
    },
    {
      "cell_type": "markdown",
      "metadata": {
        "id": "O1R5BxhgE3Dh"
      },
      "source": [
        "## Fit Fractional Regression Using R Package (`betareg`)\n",
        "\n",
        "Although `betareg` is designed for beta regression (strictly (0,1)), it can be adapted for fractional data with 0s and 1s using **zero/one inflated beta models** or by **adjusting the data slightly**.\n",
        "Alternatively, we can use `glm` with `family = quasibinomial` — which is **exactly** the fractional logit model!\n",
        "\n",
        ">  `glm(..., family = quasibinomial(link = \"logit\"))`\n"
      ]
    },
    {
      "cell_type": "markdown",
      "source": [
        "### Check and Install Required R Packages"
      ],
      "metadata": {
        "id": "rGFQ0S1kDczz"
      }
    },
    {
      "cell_type": "code",
      "source": [
        "%%R\n",
        "packages <- c('tidyverse',\n",
        "\t\t 'performance',\n",
        "\t   'report',\n",
        "\t\t 'sjPlot',\n",
        "\t\t 'margins',\n",
        "\t\t 'marginaleffects',\n",
        "\t\t 'ggeffects',\n",
        "\t\t 'patchwork',\n",
        "     'betareg',\n",
        "    'lmtest'\n",
        "\t  \t)"
      ],
      "metadata": {
        "id": "3Mmp2ogYDQCL"
      },
      "execution_count": 12,
      "outputs": []
    },
    {
      "cell_type": "code",
      "source": [
        "%%R\n",
        "# Install missing packages\n",
        "new.packages <- packages[!(pkg %in% installed.packages(lib='drive/My Drive/R/')[,\"Package\"])]\n",
        "if(length(new.packages)) install.packages(new.packages, lib='drive/My Drive/R/')"
      ],
      "metadata": {
        "id": "eVho2raiDgoJ"
      },
      "execution_count": null,
      "outputs": []
    },
    {
      "cell_type": "code",
      "source": [
        "%%R\n",
        "# set library path\n",
        ".libPaths('drive/My Drive/R')\n",
        "# Load packages with suppressed messages\n",
        "invisible(lapply(packages, function(pkg) {\n",
        "  suppressPackageStartupMessages(library(pkg, character.only = TRUE))\n",
        "}))\n",
        "# Check loaded packages\n",
        "cat(\"Successfully loaded packages:\\n\")\n",
        "print(search()[grepl(\"package:\", search())])# Check loaded packages"
      ],
      "metadata": {
        "colab": {
          "base_uri": "https://localhost:8080/"
        },
        "id": "2-7h170eDhb-",
        "outputId": "80870d9e-c4c5-4c5f-a888-4c31d33d0e15"
      },
      "execution_count": 13,
      "outputs": [
        {
          "output_type": "stream",
          "name": "stdout",
          "text": [
            "Successfully loaded packages:\n",
            " [1] \"package:lmtest\"          \"package:zoo\"            \n",
            " [3] \"package:betareg\"         \"package:patchwork\"      \n",
            " [5] \"package:ggeffects\"       \"package:marginaleffects\"\n",
            " [7] \"package:margins\"         \"package:sjPlot\"         \n",
            " [9] \"package:report\"          \"package:performance\"    \n",
            "[11] \"package:lubridate\"       \"package:forcats\"        \n",
            "[13] \"package:stringr\"         \"package:dplyr\"          \n",
            "[15] \"package:purrr\"           \"package:readr\"          \n",
            "[17] \"package:tidyr\"           \"package:tibble\"         \n",
            "[19] \"package:ggplot2\"         \"package:tidyverse\"      \n",
            "[21] \"package:tools\"           \"package:stats\"          \n",
            "[23] \"package:graphics\"        \"package:grDevices\"      \n",
            "[25] \"package:utils\"           \"package:datasets\"       \n",
            "[27] \"package:methods\"         \"package:base\"           \n"
          ]
        }
      ]
    },
    {
      "cell_type": "markdown",
      "metadata": {
        "id": "q5hd8qgrCx4Z"
      },
      "source": [
        "### Data\n",
        "\n",
        "In this tutorial, we will use Prater's well-known gasoline yield data from 1956. The primary variable of interest is `yield`, which represents the proportion of crude oil converted to gasoline after distillation and fractionation. A beta regression model is particularly suitable for analyzing this variable. We also have two explanatory variables: `temp`, the temperature (measured in degrees Fahrenheit) at which all the gasoline has vaporized, and `batch`, a categorical variable denoting ten unique batches of conditions involved in the experiments based on various other factors.\n",
        "\n",
        "Source: Prater NH (1956). “Estimate Gasoline Yields from Crudes.” Petroleum Refiner, 35(5), 236–238.\n"
      ]
    },
    {
      "cell_type": "code",
      "execution_count": 14,
      "metadata": {
        "colab": {
          "base_uri": "https://localhost:8080/"
        },
        "id": "2ph3ubD_C1WL",
        "outputId": "5d1d375a-de34-4ece-9c59-389b94f54fec"
      },
      "outputs": [
        {
          "output_type": "stream",
          "name": "stdout",
          "text": [
            "Rows: 32\n",
            "Columns: 6\n",
            "$ yield    <dbl> 0.122, 0.223, 0.347, 0.457, 0.080, 0.131, 0.266, 0.074, 0.182…\n",
            "$ gravity  <dbl> 50.8, 50.8, 50.8, 50.8, 40.8, 40.8, 40.8, 40.0, 40.0, 40.0, 3…\n",
            "$ pressure <dbl> 8.6, 8.6, 8.6, 8.6, 3.5, 3.5, 3.5, 6.1, 6.1, 6.1, 6.1, 6.1, 6…\n",
            "$ temp10   <dbl> 190, 190, 190, 190, 210, 210, 210, 217, 217, 217, 220, 220, 2…\n",
            "$ temp     <dbl> 205, 275, 345, 407, 218, 273, 347, 212, 272, 340, 235, 300, 3…\n",
            "$ batch    <fct> 1, 1, 1, 1, 2, 2, 2, 3, 3, 3, 4, 4, 4, 4, 5, 5, 5, 6, 6, 6, 7…\n"
          ]
        }
      ],
      "source": [
        "%%R\n",
        "data(\"GasolineYield\", package = \"betareg\")\n",
        "glimpse(GasolineYield)"
      ]
    },
    {
      "cell_type": "markdown",
      "metadata": {
        "id": "P3o8Ay9miNcO"
      },
      "source": [
        "### Fit with `glm` (Quasibinomial)\n",
        "\n"
      ]
    },
    {
      "cell_type": "code",
      "execution_count": 16,
      "metadata": {
        "colab": {
          "base_uri": "https://localhost:8080/"
        },
        "id": "do4-RiQYiQmN",
        "outputId": "2a5b1b63-ac47-4098-e3fe-d6cb4b8e1181"
      },
      "outputs": [
        {
          "output_type": "stream",
          "name": "stdout",
          "text": [
            "\n",
            "Call:\n",
            "glm(formula = yield ~ gravity + pressure + temp10 + temp, family = quasibinomial(link = \"logit\"), \n",
            "    data = GasolineYield)\n",
            "\n",
            "Coefficients:\n",
            "              Estimate Std. Error t value Pr(>|t|)    \n",
            "(Intercept) -2.7423659  0.8229247  -3.332 0.002506 ** \n",
            "gravity      0.0049254  0.0076986   0.640 0.527707    \n",
            "pressure     0.0318262  0.0303296   1.049 0.303321    \n",
            "temp10      -0.0108551  0.0024437  -4.442 0.000136 ***\n",
            "temp         0.0105105  0.0005558  18.910  < 2e-16 ***\n",
            "---\n",
            "Signif. codes:  0 ‘***’ 0.001 ‘**’ 0.01 ‘*’ 0.05 ‘.’ 0.1 ‘ ’ 1\n",
            "\n",
            "(Dispersion parameter for quasibinomial family taken to be 0.00464114)\n",
            "\n",
            "    Null deviance: 2.34184  on 31  degrees of freedom\n",
            "Residual deviance: 0.12672  on 27  degrees of freedom\n",
            "AIC: NA\n",
            "\n",
            "Number of Fisher Scoring iterations: 5\n",
            "\n"
          ]
        }
      ],
      "source": [
        "%%R\n",
        "# Fit fractional logit model\n",
        "model_glm <- glm(yield ~ gravity + pressure + temp10 + temp,\n",
        "                 data = GasolineYield,\n",
        "                 family = quasibinomial(link = \"logit\"))\n",
        "\n",
        "summary(model_glm)"
      ]
    },
    {
      "cell_type": "markdown",
      "metadata": {
        "id": "YKDMZtX4T50t"
      },
      "source": [
        "`plot_model()` function of {sjPlot} package creates plots the estimates from logistic model:"
      ]
    },
    {
      "cell_type": "code",
      "execution_count": 17,
      "metadata": {
        "colab": {
          "base_uri": "https://localhost:8080/",
          "height": 497
        },
        "id": "WC3j_Nrh_fNe",
        "outputId": "f980cde2-bf81-4bf5-b2c1-e51be354ba55"
      },
      "outputs": [
        {
          "output_type": "display_data",
          "data": {
            "image/png": "[encoded data removed]"
          },
          "metadata": {}
        }
      ],
      "source": [
        "%%R\n",
        "plot_model(model_glm, vline.color = \"red\")"
      ]
    },
    {
      "cell_type": "code",
      "execution_count": 18,
      "metadata": {
        "colab": {
          "base_uri": "https://localhost:8080/"
        },
        "id": "R3zz2Ewie7Vl",
        "outputId": "e25c57c7-52f0-4f9b-d3d2-aa1f220f30ce"
      },
      "outputs": [
        {
          "output_type": "stream",
          "name": "stderr",
          "text": [
            "WARNING:rpy2.rinterface_lib.callbacks:R[write to console]: Can't calculate proper scoring rules for this model.\n",
            "\n"
          ]
        },
        {
          "output_type": "stream",
          "name": "stdout",
          "text": [
            "# Indices of model performance\n",
            "\n",
            "RMSE  | Sigma | Log_loss |   PCP\n",
            "--------------------------------\n",
            "0.024 | 0.068 |    0.032 | 0.030\n"
          ]
        }
      ],
      "source": [
        "%%R\n",
        "performance::performance(model_glm)"
      ]
    },
    {
      "cell_type": "markdown",
      "metadata": {
        "id": "ysZI2ttJfBd9"
      },
      "source": [
        "### Marginal Effect\n",
        "\n",
        "To calculate marginal effects and adjusted predictions, the `predict_response()` function of {ggeffects} package is used. This function can return three types of predictions, namely, conditional effects, marginal effects or marginal means, and average marginal effects or counterfactual predictions. You can set the type of prediction you want by using the `margin` argument."
      ]
    },
    {
      "cell_type": "code",
      "execution_count": 20,
      "metadata": {
        "colab": {
          "base_uri": "https://localhost:8080/",
          "height": 469
        },
        "id": "bhzEN9RsfCMH",
        "outputId": "c76e535f-24d9-4f1d-e1eb-e6f4fca83f56"
      },
      "outputs": [
        {
          "output_type": "stream",
          "name": "stderr",
          "text": [
            "WARNING:rpy2.rinterface_lib.callbacks:R[write to console]: Data were 'prettified'. Consider using `terms=\"temp [all]\"` to get\n",
            "  smooth plots.\n",
            "\n"
          ]
        },
        {
          "output_type": "display_data",
          "data": {
            "image/png": "[encoded data removed]"
          },
          "metadata": {}
        }
      ],
      "source": [
        "%%R -w 500 -h 400 -u px\n",
        "effect.temp<-ggeffects::predict_response(model_glm, \"temp\", margin = \"empirical\")\n",
        "plot(effect.temp)"
      ]
    },
    {
      "cell_type": "markdown",
      "source": [
        "### Compare with Scratch Model"
      ],
      "metadata": {
        "id": "NNMIfrJkElBq"
      }
    },
    {
      "cell_type": "code",
      "execution_count": 21,
      "metadata": {
        "colab": {
          "base_uri": "https://localhost:8080/"
        },
        "id": "b26IeehTC548",
        "outputId": "9d2318b6-44f5-47be-d118-dd4549debb60"
      },
      "outputs": [
        {
          "output_type": "stream",
          "name": "stdout",
          "text": [
            "Converged in 15 iterations.\n",
            "=== Comparison: glm vs Scratch ===\n",
            "                glm_coef                          \n",
            "(Intercept) -2.742365916 -2.650110240 -0.092255675\n",
            "gravity      0.004925439 -0.004898497  0.009823936\n",
            "pressure     0.031826230  0.065387148 -0.033560918\n",
            "temp10      -0.010855131 -0.012541035  0.001685903\n",
            "temp         0.010510529  0.012153076 -0.001642547\n"
          ]
        }
      ],
      "source": [
        "%%R\n",
        "# Extract coefficients\n",
        "coef_glm <- coef(model_glm)\n",
        "se_glm <- sqrt(diag(vcov(model_glm)))\n",
        "\n",
        "# Compare with our scratch model (on same data? Not directly — different data)\n",
        "# But you can run scratch model on GasolineYield too:\n",
        "\n",
        "X_glm <- model.matrix(yield ~ gravity + pressure + temp10 + temp, data = GasolineYield)\n",
        "y_glm <- GasolineYield$yield\n",
        "\n",
        "model_compare <- fractional_logit_irls(y_glm, X_glm)\n",
        "\n",
        "cat(\"=== Comparison: glm vs Scratch ===\\n\")\n",
        "print(cbind(\n",
        "  glm_coef = coef_glm,\n",
        "  scratch_coef = model_compare$coefficients,\n",
        "  diff = coef_glm - model_compare$coefficients\n",
        "))"
      ]
    },
    {
      "cell_type": "markdown",
      "metadata": {
        "id": "TJmScFvefGq2"
      },
      "source": [
        "## Predictions and Interpretation"
      ]
    },
    {
      "cell_type": "code",
      "execution_count": 22,
      "metadata": {
        "colab": {
          "base_uri": "https://localhost:8080/"
        },
        "id": "Avh52yfEDGgX",
        "outputId": "55e503ae-e7c0-4520-9168-bd18fbe34315"
      },
      "outputs": [
        {
          "output_type": "stream",
          "name": "stdout",
          "text": [
            "Predicted log-odds: 0.3143955 \n",
            "Predicted proportion: 0.5779578 \n",
            "    temp \n",
            "1.010566 \n"
          ]
        }
      ],
      "source": [
        "%%R\n",
        "# Predict on new data\n",
        "new_data <- data.frame(\n",
        "  gravity = 40,\n",
        "  pressure = 10,\n",
        "  temp10 = 250,\n",
        "  temp = 500\n",
        ")\n",
        "\n",
        "# Predicted proportion\n",
        "pred_logit <- predict(model_glm, newdata = new_data, type = \"link\")\n",
        "pred_prob <- predict(model_glm, newdata = new_data, type = \"response\")\n",
        "\n",
        "cat(\"Predicted log-odds:\", pred_logit, \"\\n\")\n",
        "cat(\"Predicted proportion:\", pred_prob, \"\\n\")\n",
        "\n",
        "# Interpret coefficients: one-unit increase in temp → multiplicative change in odds\n",
        "exp(coef(model_glm)[\"temp\"])  # Odds multiplier per unit temp"
      ]
    },
    {
      "cell_type": "markdown",
      "metadata": {
        "id": "upcYU_bCVlc1"
      },
      "source": [
        "## Summary and Conclusion\n",
        "\n",
        "This tutorial taught you how to model proportion data (bounded between 0 and 1) using fractional regression in R — both from scratch and with built-in tools. You implemented a custom IRLS algorithm for fractional logit models, overcoming matrix dimension errors with `sweep()`, and compared it to the standard `glm(..., family = quasibinomial)` approach, which is recommended for real-world use. You now understand when to use fractional regression (instead of OLS or logistic), how to interpret coefficients as log-odds, and how to handle 0s/1s — equipping you to confidently analyze rates, shares, and percentages across economics, ecology, education, and beyond.\n",
        "\n"
      ]
    },
    {
      "cell_type": "markdown",
      "metadata": {
        "id": "jadfYvGSWNK8"
      },
      "source": [
        "##  Resources\n",
        "\n",
        "1.  Papke, L. E., & Wooldridge, J. M. (1996). Econometric methods for fractional response variables with an application to 401(k) plan participation rates. *Journal of Applied Econometrics*, 11(6), 619–632.\n",
        "\n",
        "2. Ferrari, S., & Cribari-Neto, F. (2004). Beta regression for modelling rates and proportions. *Journal of Applied Statistics*, 31(7), 799–815."
      ]
    }
  ],
  "metadata": {
    "colab": {
      "provenance": [],
      "toc_visible": true,
      "include_colab_link": true
    },
    "kernelspec": {
      "display_name": "Python 3",
      "name": "python3"
    },
    "language_info": {
      "name": "python"
    }
  },
  "nbformat": 4,
  "nbformat_minor": 0
}